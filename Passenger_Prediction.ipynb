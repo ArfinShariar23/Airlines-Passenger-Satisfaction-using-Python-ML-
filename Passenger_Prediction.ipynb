{
  "nbformat": 4,
  "nbformat_minor": 0,
  "metadata": {
    "colab": {
      "name": "Passenger Prediction.ipynb",
      "provenance": [],
      "collapsed_sections": [],
      "authorship_tag": "ABX9TyPw+lv6R+yBs28Kt+0igbdg",
      "include_colab_link": true
    },
    "kernelspec": {
      "name": "python3",
      "display_name": "Python 3"
    },
    "language_info": {
      "name": "python"
    }
  },
  "cells": [
    {
      "cell_type": "markdown",
      "metadata": {
        "id": "view-in-github",
        "colab_type": "text"
      },
      "source": [
        "<a href=\"https://colab.research.google.com/github/ArfinShariar23/Airlines-Passenger-Satisfaction-using-Python-ML-/blob/main/Passenger_Prediction.ipynb\" target=\"_parent\"><img src=\"https://colab.research.google.com/assets/colab-badge.svg\" alt=\"Open In Colab\"/></a>"
      ]
    },
    {
      "cell_type": "code",
      "execution_count": 789,
      "metadata": {
        "id": "gaW4PPjmrrI_"
      },
      "outputs": [],
      "source": [
        "import pandas as pd\n",
        "import numpy as np\n",
        "import seaborn as snb\n",
        "import matplotlib.pyplot as plt"
      ]
    },
    {
      "cell_type": "code",
      "source": [
        "from google.colab import drive\n",
        "drive.mount('/content/drive')"
      ],
      "metadata": {
        "colab": {
          "base_uri": "https://localhost:8080/"
        },
        "id": "uIBsYYwtPzN5",
        "outputId": "d5c70699-27db-4e25-f4c7-b0f239ae5b7d"
      },
      "execution_count": 790,
      "outputs": [
        {
          "output_type": "stream",
          "name": "stdout",
          "text": [
            "Drive already mounted at /content/drive; to attempt to forcibly remount, call drive.mount(\"/content/drive\", force_remount=True).\n"
          ]
        }
      ]
    },
    {
      "cell_type": "code",
      "source": [
        "dataset1 = pd.read_csv('/content/drive/MyDrive/Colab Notebooks/DATA MINING/Satisfaction/edited_train.csv')"
      ],
      "metadata": {
        "id": "3pjNdvwcQFk9"
      },
      "execution_count": 791,
      "outputs": []
    },
    {
      "cell_type": "markdown",
      "source": [
        "# **Preprocessing of Dataset 1**"
      ],
      "metadata": {
        "id": "xB32vNbYx4jy"
      }
    },
    {
      "cell_type": "code",
      "source": [
        "dataset1.shape"
      ],
      "metadata": {
        "colab": {
          "base_uri": "https://localhost:8080/"
        },
        "id": "f8CTu0D0x378",
        "outputId": "317abfad-1262-45db-a969-257c611e2972"
      },
      "execution_count": 792,
      "outputs": [
        {
          "output_type": "execute_result",
          "data": {
            "text/plain": [
              "(103904, 24)"
            ]
          },
          "metadata": {},
          "execution_count": 792
        }
      ]
    },
    {
      "cell_type": "code",
      "source": [
        "dataset1.keys()"
      ],
      "metadata": {
        "colab": {
          "base_uri": "https://localhost:8080/"
        },
        "id": "JUcJCxHWyQlM",
        "outputId": "4e62057f-00ae-4c10-f79c-318f5d63bc07"
      },
      "execution_count": 793,
      "outputs": [
        {
          "output_type": "execute_result",
          "data": {
            "text/plain": [
              "Index(['id', 'Gender', 'Customer Type', 'Age', 'Type of Travel', 'Class',\n",
              "       'Flight Distance', 'Inflight wifi service',\n",
              "       'Departure/Arrival time convenient', 'Ease of Online booking',\n",
              "       'Gate location', 'Food and drink', 'Online boarding', 'Seat comfort',\n",
              "       'Inflight entertainment', 'On-board service', 'Leg room service',\n",
              "       'Baggage handling', 'Checkin service', 'Inflight service',\n",
              "       'Cleanliness', 'Departure Delay in Minutes', 'Arrival Delay in Minutes',\n",
              "       'satisfaction'],\n",
              "      dtype='object')"
            ]
          },
          "metadata": {},
          "execution_count": 793
        }
      ]
    },
    {
      "cell_type": "markdown",
      "source": [
        "## **Missing Value Handeling**"
      ],
      "metadata": {
        "id": "9e-29TBfW7Xu"
      }
    },
    {
      "cell_type": "code",
      "source": [
        "dataset1.isnull().sum()"
      ],
      "metadata": {
        "colab": {
          "base_uri": "https://localhost:8080/"
        },
        "id": "402Tq0w9SgYE",
        "outputId": "564a0d30-65a8-4dbb-d900-bbcfbfc3b1c8"
      },
      "execution_count": 794,
      "outputs": [
        {
          "output_type": "execute_result",
          "data": {
            "text/plain": [
              "id                                     0\n",
              "Gender                                 0\n",
              "Customer Type                          0\n",
              "Age                                    0\n",
              "Type of Travel                         0\n",
              "Class                                  0\n",
              "Flight Distance                        0\n",
              "Inflight wifi service                  0\n",
              "Departure/Arrival time convenient      0\n",
              "Ease of Online booking                 0\n",
              "Gate location                          0\n",
              "Food and drink                         0\n",
              "Online boarding                        0\n",
              "Seat comfort                           0\n",
              "Inflight entertainment                 0\n",
              "On-board service                       0\n",
              "Leg room service                       0\n",
              "Baggage handling                       0\n",
              "Checkin service                        0\n",
              "Inflight service                       0\n",
              "Cleanliness                            0\n",
              "Departure Delay in Minutes             0\n",
              "Arrival Delay in Minutes             310\n",
              "satisfaction                           0\n",
              "dtype: int64"
            ]
          },
          "metadata": {},
          "execution_count": 794
        }
      ]
    },
    {
      "cell_type": "code",
      "source": [
        "#Missing Value Handle \n",
        "dataset1['Arrival Delay in Minutes'] = dataset1['Arrival Delay in Minutes'].replace(np.NaN,dataset1['Arrival Delay in Minutes'].mean())"
      ],
      "metadata": {
        "id": "V8YT8Z40S2YV"
      },
      "execution_count": 795,
      "outputs": []
    },
    {
      "cell_type": "code",
      "source": [
        "dataset1.isnull().sum().sum()"
      ],
      "metadata": {
        "colab": {
          "base_uri": "https://localhost:8080/"
        },
        "id": "uJKaIVKMTEIE",
        "outputId": "11c9f2b7-941f-46a4-cc21-48f05a91dcfa"
      },
      "execution_count": 796,
      "outputs": [
        {
          "output_type": "execute_result",
          "data": {
            "text/plain": [
              "0"
            ]
          },
          "metadata": {},
          "execution_count": 796
        }
      ]
    },
    {
      "cell_type": "markdown",
      "source": [
        "## **LabelEncoding**"
      ],
      "metadata": {
        "id": "nVXnB5pOWwoF"
      }
    },
    {
      "cell_type": "code",
      "source": [
        "dataset1.select_dtypes(\"object\").head(5)"
      ],
      "metadata": {
        "colab": {
          "base_uri": "https://localhost:8080/",
          "height": 206
        },
        "id": "LwiY_IanTIFU",
        "outputId": "5bb8131b-f46e-4258-ec2a-19f79f27665e"
      },
      "execution_count": 797,
      "outputs": [
        {
          "output_type": "execute_result",
          "data": {
            "text/plain": [
              "   Gender      Customer Type   Type of Travel     Class  \\\n",
              "0    Male     Loyal Customer  Personal Travel  Eco Plus   \n",
              "1    Male  disloyal Customer  Business travel  Business   \n",
              "2  Female     Loyal Customer  Business travel  Business   \n",
              "3  Female     Loyal Customer  Business travel  Business   \n",
              "4    Male     Loyal Customer  Business travel  Business   \n",
              "\n",
              "              satisfaction  \n",
              "0  neutral or dissatisfied  \n",
              "1  neutral or dissatisfied  \n",
              "2                satisfied  \n",
              "3  neutral or dissatisfied  \n",
              "4                satisfied  "
            ],
            "text/html": [
              "\n",
              "  <div id=\"df-a24c9d12-13b3-4ec6-bdda-ad7533fe07e6\">\n",
              "    <div class=\"colab-df-container\">\n",
              "      <div>\n",
              "<style scoped>\n",
              "    .dataframe tbody tr th:only-of-type {\n",
              "        vertical-align: middle;\n",
              "    }\n",
              "\n",
              "    .dataframe tbody tr th {\n",
              "        vertical-align: top;\n",
              "    }\n",
              "\n",
              "    .dataframe thead th {\n",
              "        text-align: right;\n",
              "    }\n",
              "</style>\n",
              "<table border=\"1\" class=\"dataframe\">\n",
              "  <thead>\n",
              "    <tr style=\"text-align: right;\">\n",
              "      <th></th>\n",
              "      <th>Gender</th>\n",
              "      <th>Customer Type</th>\n",
              "      <th>Type of Travel</th>\n",
              "      <th>Class</th>\n",
              "      <th>satisfaction</th>\n",
              "    </tr>\n",
              "  </thead>\n",
              "  <tbody>\n",
              "    <tr>\n",
              "      <th>0</th>\n",
              "      <td>Male</td>\n",
              "      <td>Loyal Customer</td>\n",
              "      <td>Personal Travel</td>\n",
              "      <td>Eco Plus</td>\n",
              "      <td>neutral or dissatisfied</td>\n",
              "    </tr>\n",
              "    <tr>\n",
              "      <th>1</th>\n",
              "      <td>Male</td>\n",
              "      <td>disloyal Customer</td>\n",
              "      <td>Business travel</td>\n",
              "      <td>Business</td>\n",
              "      <td>neutral or dissatisfied</td>\n",
              "    </tr>\n",
              "    <tr>\n",
              "      <th>2</th>\n",
              "      <td>Female</td>\n",
              "      <td>Loyal Customer</td>\n",
              "      <td>Business travel</td>\n",
              "      <td>Business</td>\n",
              "      <td>satisfied</td>\n",
              "    </tr>\n",
              "    <tr>\n",
              "      <th>3</th>\n",
              "      <td>Female</td>\n",
              "      <td>Loyal Customer</td>\n",
              "      <td>Business travel</td>\n",
              "      <td>Business</td>\n",
              "      <td>neutral or dissatisfied</td>\n",
              "    </tr>\n",
              "    <tr>\n",
              "      <th>4</th>\n",
              "      <td>Male</td>\n",
              "      <td>Loyal Customer</td>\n",
              "      <td>Business travel</td>\n",
              "      <td>Business</td>\n",
              "      <td>satisfied</td>\n",
              "    </tr>\n",
              "  </tbody>\n",
              "</table>\n",
              "</div>\n",
              "      <button class=\"colab-df-convert\" onclick=\"convertToInteractive('df-a24c9d12-13b3-4ec6-bdda-ad7533fe07e6')\"\n",
              "              title=\"Convert this dataframe to an interactive table.\"\n",
              "              style=\"display:none;\">\n",
              "        \n",
              "  <svg xmlns=\"http://www.w3.org/2000/svg\" height=\"24px\"viewBox=\"0 0 24 24\"\n",
              "       width=\"24px\">\n",
              "    <path d=\"M0 0h24v24H0V0z\" fill=\"none\"/>\n",
              "    <path d=\"M18.56 5.44l.94 2.06.94-2.06 2.06-.94-2.06-.94-.94-2.06-.94 2.06-2.06.94zm-11 1L8.5 8.5l.94-2.06 2.06-.94-2.06-.94L8.5 2.5l-.94 2.06-2.06.94zm10 10l.94 2.06.94-2.06 2.06-.94-2.06-.94-.94-2.06-.94 2.06-2.06.94z\"/><path d=\"M17.41 7.96l-1.37-1.37c-.4-.4-.92-.59-1.43-.59-.52 0-1.04.2-1.43.59L10.3 9.45l-7.72 7.72c-.78.78-.78 2.05 0 2.83L4 21.41c.39.39.9.59 1.41.59.51 0 1.02-.2 1.41-.59l7.78-7.78 2.81-2.81c.8-.78.8-2.07 0-2.86zM5.41 20L4 18.59l7.72-7.72 1.47 1.35L5.41 20z\"/>\n",
              "  </svg>\n",
              "      </button>\n",
              "      \n",
              "  <style>\n",
              "    .colab-df-container {\n",
              "      display:flex;\n",
              "      flex-wrap:wrap;\n",
              "      gap: 12px;\n",
              "    }\n",
              "\n",
              "    .colab-df-convert {\n",
              "      background-color: #E8F0FE;\n",
              "      border: none;\n",
              "      border-radius: 50%;\n",
              "      cursor: pointer;\n",
              "      display: none;\n",
              "      fill: #1967D2;\n",
              "      height: 32px;\n",
              "      padding: 0 0 0 0;\n",
              "      width: 32px;\n",
              "    }\n",
              "\n",
              "    .colab-df-convert:hover {\n",
              "      background-color: #E2EBFA;\n",
              "      box-shadow: 0px 1px 2px rgba(60, 64, 67, 0.3), 0px 1px 3px 1px rgba(60, 64, 67, 0.15);\n",
              "      fill: #174EA6;\n",
              "    }\n",
              "\n",
              "    [theme=dark] .colab-df-convert {\n",
              "      background-color: #3B4455;\n",
              "      fill: #D2E3FC;\n",
              "    }\n",
              "\n",
              "    [theme=dark] .colab-df-convert:hover {\n",
              "      background-color: #434B5C;\n",
              "      box-shadow: 0px 1px 3px 1px rgba(0, 0, 0, 0.15);\n",
              "      filter: drop-shadow(0px 1px 2px rgba(0, 0, 0, 0.3));\n",
              "      fill: #FFFFFF;\n",
              "    }\n",
              "  </style>\n",
              "\n",
              "      <script>\n",
              "        const buttonEl =\n",
              "          document.querySelector('#df-a24c9d12-13b3-4ec6-bdda-ad7533fe07e6 button.colab-df-convert');\n",
              "        buttonEl.style.display =\n",
              "          google.colab.kernel.accessAllowed ? 'block' : 'none';\n",
              "\n",
              "        async function convertToInteractive(key) {\n",
              "          const element = document.querySelector('#df-a24c9d12-13b3-4ec6-bdda-ad7533fe07e6');\n",
              "          const dataTable =\n",
              "            await google.colab.kernel.invokeFunction('convertToInteractive',\n",
              "                                                     [key], {});\n",
              "          if (!dataTable) return;\n",
              "\n",
              "          const docLinkHtml = 'Like what you see? Visit the ' +\n",
              "            '<a target=\"_blank\" href=https://colab.research.google.com/notebooks/data_table.ipynb>data table notebook</a>'\n",
              "            + ' to learn more about interactive tables.';\n",
              "          element.innerHTML = '';\n",
              "          dataTable['output_type'] = 'display_data';\n",
              "          await google.colab.output.renderOutput(dataTable, element);\n",
              "          const docLink = document.createElement('div');\n",
              "          docLink.innerHTML = docLinkHtml;\n",
              "          element.appendChild(docLink);\n",
              "        }\n",
              "      </script>\n",
              "    </div>\n",
              "  </div>\n",
              "  "
            ]
          },
          "metadata": {},
          "execution_count": 797
        }
      ]
    },
    {
      "cell_type": "code",
      "source": [
        "from sklearn.preprocessing import LabelEncoder\n",
        "l_encoder = LabelEncoder()\n",
        "dataset1['Gender'] = l_encoder.fit_transform(dataset1['Gender'])\n",
        "dataset1['Customer Type'] = l_encoder.fit_transform(dataset1['Customer Type'])\n",
        "dataset1['Type of Travel'] = l_encoder.fit_transform(dataset1['Type of Travel'])\n",
        "dataset1['Class'] = l_encoder.fit_transform(dataset1['Class'])\n",
        "dataset1['satisfaction'] = l_encoder.fit_transform(dataset1['satisfaction'])"
      ],
      "metadata": {
        "id": "0hJFzEhaTOkU"
      },
      "execution_count": 798,
      "outputs": []
    },
    {
      "cell_type": "code",
      "source": [
        "dataset1.head()"
      ],
      "metadata": {
        "colab": {
          "base_uri": "https://localhost:8080/",
          "height": 352
        },
        "id": "IN5BYp7ljxDv",
        "outputId": "17ccc697-c459-4936-fc29-fbc94fc91c8e"
      },
      "execution_count": 799,
      "outputs": [
        {
          "output_type": "execute_result",
          "data": {
            "text/plain": [
              "       id  Gender  Customer Type  Age  Type of Travel  Class  Flight Distance  \\\n",
              "0   70172       1              0   13               1      2              460   \n",
              "1    5047       1              1   25               0      0              235   \n",
              "2  110028       0              0   26               0      0             1142   \n",
              "3   24026       0              0   25               0      0              562   \n",
              "4  119299       1              0   61               0      0              214   \n",
              "\n",
              "   Inflight wifi service  Departure/Arrival time convenient  \\\n",
              "0                      3                                  4   \n",
              "1                      3                                  2   \n",
              "2                      2                                  2   \n",
              "3                      2                                  5   \n",
              "4                      3                                  3   \n",
              "\n",
              "   Ease of Online booking  ...  Inflight entertainment  On-board service  \\\n",
              "0                       3  ...                       5                 4   \n",
              "1                       3  ...                       1                 1   \n",
              "2                       2  ...                       5                 4   \n",
              "3                       5  ...                       2                 2   \n",
              "4                       3  ...                       3                 3   \n",
              "\n",
              "   Leg room service  Baggage handling  Checkin service  Inflight service  \\\n",
              "0                 3                 4                4                 5   \n",
              "1                 5                 3                1                 4   \n",
              "2                 3                 4                4                 4   \n",
              "3                 5                 3                1                 4   \n",
              "4                 4                 4                3                 3   \n",
              "\n",
              "   Cleanliness  Departure Delay in Minutes  Arrival Delay in Minutes  \\\n",
              "0            5                          25                      18.0   \n",
              "1            1                           1                       6.0   \n",
              "2            5                           0                       0.0   \n",
              "3            2                          11                       9.0   \n",
              "4            3                           0                       0.0   \n",
              "\n",
              "   satisfaction  \n",
              "0             0  \n",
              "1             0  \n",
              "2             1  \n",
              "3             0  \n",
              "4             1  \n",
              "\n",
              "[5 rows x 24 columns]"
            ],
            "text/html": [
              "\n",
              "  <div id=\"df-7ffc501c-1139-4e12-8698-cd11e6101265\">\n",
              "    <div class=\"colab-df-container\">\n",
              "      <div>\n",
              "<style scoped>\n",
              "    .dataframe tbody tr th:only-of-type {\n",
              "        vertical-align: middle;\n",
              "    }\n",
              "\n",
              "    .dataframe tbody tr th {\n",
              "        vertical-align: top;\n",
              "    }\n",
              "\n",
              "    .dataframe thead th {\n",
              "        text-align: right;\n",
              "    }\n",
              "</style>\n",
              "<table border=\"1\" class=\"dataframe\">\n",
              "  <thead>\n",
              "    <tr style=\"text-align: right;\">\n",
              "      <th></th>\n",
              "      <th>id</th>\n",
              "      <th>Gender</th>\n",
              "      <th>Customer Type</th>\n",
              "      <th>Age</th>\n",
              "      <th>Type of Travel</th>\n",
              "      <th>Class</th>\n",
              "      <th>Flight Distance</th>\n",
              "      <th>Inflight wifi service</th>\n",
              "      <th>Departure/Arrival time convenient</th>\n",
              "      <th>Ease of Online booking</th>\n",
              "      <th>...</th>\n",
              "      <th>Inflight entertainment</th>\n",
              "      <th>On-board service</th>\n",
              "      <th>Leg room service</th>\n",
              "      <th>Baggage handling</th>\n",
              "      <th>Checkin service</th>\n",
              "      <th>Inflight service</th>\n",
              "      <th>Cleanliness</th>\n",
              "      <th>Departure Delay in Minutes</th>\n",
              "      <th>Arrival Delay in Minutes</th>\n",
              "      <th>satisfaction</th>\n",
              "    </tr>\n",
              "  </thead>\n",
              "  <tbody>\n",
              "    <tr>\n",
              "      <th>0</th>\n",
              "      <td>70172</td>\n",
              "      <td>1</td>\n",
              "      <td>0</td>\n",
              "      <td>13</td>\n",
              "      <td>1</td>\n",
              "      <td>2</td>\n",
              "      <td>460</td>\n",
              "      <td>3</td>\n",
              "      <td>4</td>\n",
              "      <td>3</td>\n",
              "      <td>...</td>\n",
              "      <td>5</td>\n",
              "      <td>4</td>\n",
              "      <td>3</td>\n",
              "      <td>4</td>\n",
              "      <td>4</td>\n",
              "      <td>5</td>\n",
              "      <td>5</td>\n",
              "      <td>25</td>\n",
              "      <td>18.0</td>\n",
              "      <td>0</td>\n",
              "    </tr>\n",
              "    <tr>\n",
              "      <th>1</th>\n",
              "      <td>5047</td>\n",
              "      <td>1</td>\n",
              "      <td>1</td>\n",
              "      <td>25</td>\n",
              "      <td>0</td>\n",
              "      <td>0</td>\n",
              "      <td>235</td>\n",
              "      <td>3</td>\n",
              "      <td>2</td>\n",
              "      <td>3</td>\n",
              "      <td>...</td>\n",
              "      <td>1</td>\n",
              "      <td>1</td>\n",
              "      <td>5</td>\n",
              "      <td>3</td>\n",
              "      <td>1</td>\n",
              "      <td>4</td>\n",
              "      <td>1</td>\n",
              "      <td>1</td>\n",
              "      <td>6.0</td>\n",
              "      <td>0</td>\n",
              "    </tr>\n",
              "    <tr>\n",
              "      <th>2</th>\n",
              "      <td>110028</td>\n",
              "      <td>0</td>\n",
              "      <td>0</td>\n",
              "      <td>26</td>\n",
              "      <td>0</td>\n",
              "      <td>0</td>\n",
              "      <td>1142</td>\n",
              "      <td>2</td>\n",
              "      <td>2</td>\n",
              "      <td>2</td>\n",
              "      <td>...</td>\n",
              "      <td>5</td>\n",
              "      <td>4</td>\n",
              "      <td>3</td>\n",
              "      <td>4</td>\n",
              "      <td>4</td>\n",
              "      <td>4</td>\n",
              "      <td>5</td>\n",
              "      <td>0</td>\n",
              "      <td>0.0</td>\n",
              "      <td>1</td>\n",
              "    </tr>\n",
              "    <tr>\n",
              "      <th>3</th>\n",
              "      <td>24026</td>\n",
              "      <td>0</td>\n",
              "      <td>0</td>\n",
              "      <td>25</td>\n",
              "      <td>0</td>\n",
              "      <td>0</td>\n",
              "      <td>562</td>\n",
              "      <td>2</td>\n",
              "      <td>5</td>\n",
              "      <td>5</td>\n",
              "      <td>...</td>\n",
              "      <td>2</td>\n",
              "      <td>2</td>\n",
              "      <td>5</td>\n",
              "      <td>3</td>\n",
              "      <td>1</td>\n",
              "      <td>4</td>\n",
              "      <td>2</td>\n",
              "      <td>11</td>\n",
              "      <td>9.0</td>\n",
              "      <td>0</td>\n",
              "    </tr>\n",
              "    <tr>\n",
              "      <th>4</th>\n",
              "      <td>119299</td>\n",
              "      <td>1</td>\n",
              "      <td>0</td>\n",
              "      <td>61</td>\n",
              "      <td>0</td>\n",
              "      <td>0</td>\n",
              "      <td>214</td>\n",
              "      <td>3</td>\n",
              "      <td>3</td>\n",
              "      <td>3</td>\n",
              "      <td>...</td>\n",
              "      <td>3</td>\n",
              "      <td>3</td>\n",
              "      <td>4</td>\n",
              "      <td>4</td>\n",
              "      <td>3</td>\n",
              "      <td>3</td>\n",
              "      <td>3</td>\n",
              "      <td>0</td>\n",
              "      <td>0.0</td>\n",
              "      <td>1</td>\n",
              "    </tr>\n",
              "  </tbody>\n",
              "</table>\n",
              "<p>5 rows × 24 columns</p>\n",
              "</div>\n",
              "      <button class=\"colab-df-convert\" onclick=\"convertToInteractive('df-7ffc501c-1139-4e12-8698-cd11e6101265')\"\n",
              "              title=\"Convert this dataframe to an interactive table.\"\n",
              "              style=\"display:none;\">\n",
              "        \n",
              "  <svg xmlns=\"http://www.w3.org/2000/svg\" height=\"24px\"viewBox=\"0 0 24 24\"\n",
              "       width=\"24px\">\n",
              "    <path d=\"M0 0h24v24H0V0z\" fill=\"none\"/>\n",
              "    <path d=\"M18.56 5.44l.94 2.06.94-2.06 2.06-.94-2.06-.94-.94-2.06-.94 2.06-2.06.94zm-11 1L8.5 8.5l.94-2.06 2.06-.94-2.06-.94L8.5 2.5l-.94 2.06-2.06.94zm10 10l.94 2.06.94-2.06 2.06-.94-2.06-.94-.94-2.06-.94 2.06-2.06.94z\"/><path d=\"M17.41 7.96l-1.37-1.37c-.4-.4-.92-.59-1.43-.59-.52 0-1.04.2-1.43.59L10.3 9.45l-7.72 7.72c-.78.78-.78 2.05 0 2.83L4 21.41c.39.39.9.59 1.41.59.51 0 1.02-.2 1.41-.59l7.78-7.78 2.81-2.81c.8-.78.8-2.07 0-2.86zM5.41 20L4 18.59l7.72-7.72 1.47 1.35L5.41 20z\"/>\n",
              "  </svg>\n",
              "      </button>\n",
              "      \n",
              "  <style>\n",
              "    .colab-df-container {\n",
              "      display:flex;\n",
              "      flex-wrap:wrap;\n",
              "      gap: 12px;\n",
              "    }\n",
              "\n",
              "    .colab-df-convert {\n",
              "      background-color: #E8F0FE;\n",
              "      border: none;\n",
              "      border-radius: 50%;\n",
              "      cursor: pointer;\n",
              "      display: none;\n",
              "      fill: #1967D2;\n",
              "      height: 32px;\n",
              "      padding: 0 0 0 0;\n",
              "      width: 32px;\n",
              "    }\n",
              "\n",
              "    .colab-df-convert:hover {\n",
              "      background-color: #E2EBFA;\n",
              "      box-shadow: 0px 1px 2px rgba(60, 64, 67, 0.3), 0px 1px 3px 1px rgba(60, 64, 67, 0.15);\n",
              "      fill: #174EA6;\n",
              "    }\n",
              "\n",
              "    [theme=dark] .colab-df-convert {\n",
              "      background-color: #3B4455;\n",
              "      fill: #D2E3FC;\n",
              "    }\n",
              "\n",
              "    [theme=dark] .colab-df-convert:hover {\n",
              "      background-color: #434B5C;\n",
              "      box-shadow: 0px 1px 3px 1px rgba(0, 0, 0, 0.15);\n",
              "      filter: drop-shadow(0px 1px 2px rgba(0, 0, 0, 0.3));\n",
              "      fill: #FFFFFF;\n",
              "    }\n",
              "  </style>\n",
              "\n",
              "      <script>\n",
              "        const buttonEl =\n",
              "          document.querySelector('#df-7ffc501c-1139-4e12-8698-cd11e6101265 button.colab-df-convert');\n",
              "        buttonEl.style.display =\n",
              "          google.colab.kernel.accessAllowed ? 'block' : 'none';\n",
              "\n",
              "        async function convertToInteractive(key) {\n",
              "          const element = document.querySelector('#df-7ffc501c-1139-4e12-8698-cd11e6101265');\n",
              "          const dataTable =\n",
              "            await google.colab.kernel.invokeFunction('convertToInteractive',\n",
              "                                                     [key], {});\n",
              "          if (!dataTable) return;\n",
              "\n",
              "          const docLinkHtml = 'Like what you see? Visit the ' +\n",
              "            '<a target=\"_blank\" href=https://colab.research.google.com/notebooks/data_table.ipynb>data table notebook</a>'\n",
              "            + ' to learn more about interactive tables.';\n",
              "          element.innerHTML = '';\n",
              "          dataTable['output_type'] = 'display_data';\n",
              "          await google.colab.output.renderOutput(dataTable, element);\n",
              "          const docLink = document.createElement('div');\n",
              "          docLink.innerHTML = docLinkHtml;\n",
              "          element.appendChild(docLink);\n",
              "        }\n",
              "      </script>\n",
              "    </div>\n",
              "  </div>\n",
              "  "
            ]
          },
          "metadata": {},
          "execution_count": 799
        }
      ]
    },
    {
      "cell_type": "markdown",
      "source": [
        "## **Dataset 1 Describe**"
      ],
      "metadata": {
        "id": "SclR3kqmXM6M"
      }
    },
    {
      "cell_type": "code",
      "source": [
        "dataset1.describe()"
      ],
      "metadata": {
        "colab": {
          "base_uri": "https://localhost:8080/",
          "height": 428
        },
        "id": "2qKHL1fYzPua",
        "outputId": "32df8ac0-eecf-467e-9b54-9ae3fe2091a1"
      },
      "execution_count": 800,
      "outputs": [
        {
          "output_type": "execute_result",
          "data": {
            "text/plain": [
              "                  id         Gender  Customer Type            Age  \\\n",
              "count  103904.000000  103904.000000  103904.000000  103904.000000   \n",
              "mean    64924.210502       0.492541       0.182678      39.379706   \n",
              "std     37463.812252       0.499947       0.386404      15.114964   \n",
              "min         1.000000       0.000000       0.000000       7.000000   \n",
              "25%     32533.750000       0.000000       0.000000      27.000000   \n",
              "50%     64856.500000       0.000000       0.000000      40.000000   \n",
              "75%     97368.250000       1.000000       0.000000      51.000000   \n",
              "max    129880.000000       1.000000       1.000000      85.000000   \n",
              "\n",
              "       Type of Travel          Class  Flight Distance  Inflight wifi service  \\\n",
              "count   103904.000000  103904.000000    103904.000000          103904.000000   \n",
              "mean         0.310373       0.594135      1189.448375               2.729683   \n",
              "std          0.462649       0.620799       997.147281               1.327829   \n",
              "min          0.000000       0.000000        31.000000               0.000000   \n",
              "25%          0.000000       0.000000       414.000000               2.000000   \n",
              "50%          0.000000       1.000000       843.000000               3.000000   \n",
              "75%          1.000000       1.000000      1743.000000               4.000000   \n",
              "max          1.000000       2.000000      4983.000000               5.000000   \n",
              "\n",
              "       Departure/Arrival time convenient  Ease of Online booking  ...  \\\n",
              "count                      103904.000000           103904.000000  ...   \n",
              "mean                            3.060296                2.756901  ...   \n",
              "std                             1.525075                1.398929  ...   \n",
              "min                             0.000000                0.000000  ...   \n",
              "25%                             2.000000                2.000000  ...   \n",
              "50%                             3.000000                3.000000  ...   \n",
              "75%                             4.000000                4.000000  ...   \n",
              "max                             5.000000                5.000000  ...   \n",
              "\n",
              "       Inflight entertainment  On-board service  Leg room service  \\\n",
              "count           103904.000000     103904.000000     103904.000000   \n",
              "mean                 3.358158          3.382363          3.351055   \n",
              "std                  1.332991          1.288354          1.315605   \n",
              "min                  0.000000          0.000000          0.000000   \n",
              "25%                  2.000000          2.000000          2.000000   \n",
              "50%                  4.000000          4.000000          4.000000   \n",
              "75%                  4.000000          4.000000          4.000000   \n",
              "max                  5.000000          5.000000          5.000000   \n",
              "\n",
              "       Baggage handling  Checkin service  Inflight service    Cleanliness  \\\n",
              "count     103904.000000    103904.000000     103904.000000  103904.000000   \n",
              "mean           3.631833         3.304290          3.640428       3.286351   \n",
              "std            1.180903         1.265396          1.175663       1.312273   \n",
              "min            1.000000         0.000000          0.000000       0.000000   \n",
              "25%            3.000000         3.000000          3.000000       2.000000   \n",
              "50%            4.000000         3.000000          4.000000       3.000000   \n",
              "75%            5.000000         4.000000          5.000000       4.000000   \n",
              "max            5.000000         5.000000          5.000000       5.000000   \n",
              "\n",
              "       Departure Delay in Minutes  Arrival Delay in Minutes   satisfaction  \n",
              "count               103904.000000             103904.000000  103904.000000  \n",
              "mean                    14.815618                 15.178678       0.433333  \n",
              "std                     38.230901                 38.640909       0.495538  \n",
              "min                      0.000000                  0.000000       0.000000  \n",
              "25%                      0.000000                  0.000000       0.000000  \n",
              "50%                      0.000000                  0.000000       0.000000  \n",
              "75%                     12.000000                 13.000000       1.000000  \n",
              "max                   1592.000000               1584.000000       1.000000  \n",
              "\n",
              "[8 rows x 24 columns]"
            ],
            "text/html": [
              "\n",
              "  <div id=\"df-540f18a6-f12c-4bf2-8695-216ef2487d24\">\n",
              "    <div class=\"colab-df-container\">\n",
              "      <div>\n",
              "<style scoped>\n",
              "    .dataframe tbody tr th:only-of-type {\n",
              "        vertical-align: middle;\n",
              "    }\n",
              "\n",
              "    .dataframe tbody tr th {\n",
              "        vertical-align: top;\n",
              "    }\n",
              "\n",
              "    .dataframe thead th {\n",
              "        text-align: right;\n",
              "    }\n",
              "</style>\n",
              "<table border=\"1\" class=\"dataframe\">\n",
              "  <thead>\n",
              "    <tr style=\"text-align: right;\">\n",
              "      <th></th>\n",
              "      <th>id</th>\n",
              "      <th>Gender</th>\n",
              "      <th>Customer Type</th>\n",
              "      <th>Age</th>\n",
              "      <th>Type of Travel</th>\n",
              "      <th>Class</th>\n",
              "      <th>Flight Distance</th>\n",
              "      <th>Inflight wifi service</th>\n",
              "      <th>Departure/Arrival time convenient</th>\n",
              "      <th>Ease of Online booking</th>\n",
              "      <th>...</th>\n",
              "      <th>Inflight entertainment</th>\n",
              "      <th>On-board service</th>\n",
              "      <th>Leg room service</th>\n",
              "      <th>Baggage handling</th>\n",
              "      <th>Checkin service</th>\n",
              "      <th>Inflight service</th>\n",
              "      <th>Cleanliness</th>\n",
              "      <th>Departure Delay in Minutes</th>\n",
              "      <th>Arrival Delay in Minutes</th>\n",
              "      <th>satisfaction</th>\n",
              "    </tr>\n",
              "  </thead>\n",
              "  <tbody>\n",
              "    <tr>\n",
              "      <th>count</th>\n",
              "      <td>103904.000000</td>\n",
              "      <td>103904.000000</td>\n",
              "      <td>103904.000000</td>\n",
              "      <td>103904.000000</td>\n",
              "      <td>103904.000000</td>\n",
              "      <td>103904.000000</td>\n",
              "      <td>103904.000000</td>\n",
              "      <td>103904.000000</td>\n",
              "      <td>103904.000000</td>\n",
              "      <td>103904.000000</td>\n",
              "      <td>...</td>\n",
              "      <td>103904.000000</td>\n",
              "      <td>103904.000000</td>\n",
              "      <td>103904.000000</td>\n",
              "      <td>103904.000000</td>\n",
              "      <td>103904.000000</td>\n",
              "      <td>103904.000000</td>\n",
              "      <td>103904.000000</td>\n",
              "      <td>103904.000000</td>\n",
              "      <td>103904.000000</td>\n",
              "      <td>103904.000000</td>\n",
              "    </tr>\n",
              "    <tr>\n",
              "      <th>mean</th>\n",
              "      <td>64924.210502</td>\n",
              "      <td>0.492541</td>\n",
              "      <td>0.182678</td>\n",
              "      <td>39.379706</td>\n",
              "      <td>0.310373</td>\n",
              "      <td>0.594135</td>\n",
              "      <td>1189.448375</td>\n",
              "      <td>2.729683</td>\n",
              "      <td>3.060296</td>\n",
              "      <td>2.756901</td>\n",
              "      <td>...</td>\n",
              "      <td>3.358158</td>\n",
              "      <td>3.382363</td>\n",
              "      <td>3.351055</td>\n",
              "      <td>3.631833</td>\n",
              "      <td>3.304290</td>\n",
              "      <td>3.640428</td>\n",
              "      <td>3.286351</td>\n",
              "      <td>14.815618</td>\n",
              "      <td>15.178678</td>\n",
              "      <td>0.433333</td>\n",
              "    </tr>\n",
              "    <tr>\n",
              "      <th>std</th>\n",
              "      <td>37463.812252</td>\n",
              "      <td>0.499947</td>\n",
              "      <td>0.386404</td>\n",
              "      <td>15.114964</td>\n",
              "      <td>0.462649</td>\n",
              "      <td>0.620799</td>\n",
              "      <td>997.147281</td>\n",
              "      <td>1.327829</td>\n",
              "      <td>1.525075</td>\n",
              "      <td>1.398929</td>\n",
              "      <td>...</td>\n",
              "      <td>1.332991</td>\n",
              "      <td>1.288354</td>\n",
              "      <td>1.315605</td>\n",
              "      <td>1.180903</td>\n",
              "      <td>1.265396</td>\n",
              "      <td>1.175663</td>\n",
              "      <td>1.312273</td>\n",
              "      <td>38.230901</td>\n",
              "      <td>38.640909</td>\n",
              "      <td>0.495538</td>\n",
              "    </tr>\n",
              "    <tr>\n",
              "      <th>min</th>\n",
              "      <td>1.000000</td>\n",
              "      <td>0.000000</td>\n",
              "      <td>0.000000</td>\n",
              "      <td>7.000000</td>\n",
              "      <td>0.000000</td>\n",
              "      <td>0.000000</td>\n",
              "      <td>31.000000</td>\n",
              "      <td>0.000000</td>\n",
              "      <td>0.000000</td>\n",
              "      <td>0.000000</td>\n",
              "      <td>...</td>\n",
              "      <td>0.000000</td>\n",
              "      <td>0.000000</td>\n",
              "      <td>0.000000</td>\n",
              "      <td>1.000000</td>\n",
              "      <td>0.000000</td>\n",
              "      <td>0.000000</td>\n",
              "      <td>0.000000</td>\n",
              "      <td>0.000000</td>\n",
              "      <td>0.000000</td>\n",
              "      <td>0.000000</td>\n",
              "    </tr>\n",
              "    <tr>\n",
              "      <th>25%</th>\n",
              "      <td>32533.750000</td>\n",
              "      <td>0.000000</td>\n",
              "      <td>0.000000</td>\n",
              "      <td>27.000000</td>\n",
              "      <td>0.000000</td>\n",
              "      <td>0.000000</td>\n",
              "      <td>414.000000</td>\n",
              "      <td>2.000000</td>\n",
              "      <td>2.000000</td>\n",
              "      <td>2.000000</td>\n",
              "      <td>...</td>\n",
              "      <td>2.000000</td>\n",
              "      <td>2.000000</td>\n",
              "      <td>2.000000</td>\n",
              "      <td>3.000000</td>\n",
              "      <td>3.000000</td>\n",
              "      <td>3.000000</td>\n",
              "      <td>2.000000</td>\n",
              "      <td>0.000000</td>\n",
              "      <td>0.000000</td>\n",
              "      <td>0.000000</td>\n",
              "    </tr>\n",
              "    <tr>\n",
              "      <th>50%</th>\n",
              "      <td>64856.500000</td>\n",
              "      <td>0.000000</td>\n",
              "      <td>0.000000</td>\n",
              "      <td>40.000000</td>\n",
              "      <td>0.000000</td>\n",
              "      <td>1.000000</td>\n",
              "      <td>843.000000</td>\n",
              "      <td>3.000000</td>\n",
              "      <td>3.000000</td>\n",
              "      <td>3.000000</td>\n",
              "      <td>...</td>\n",
              "      <td>4.000000</td>\n",
              "      <td>4.000000</td>\n",
              "      <td>4.000000</td>\n",
              "      <td>4.000000</td>\n",
              "      <td>3.000000</td>\n",
              "      <td>4.000000</td>\n",
              "      <td>3.000000</td>\n",
              "      <td>0.000000</td>\n",
              "      <td>0.000000</td>\n",
              "      <td>0.000000</td>\n",
              "    </tr>\n",
              "    <tr>\n",
              "      <th>75%</th>\n",
              "      <td>97368.250000</td>\n",
              "      <td>1.000000</td>\n",
              "      <td>0.000000</td>\n",
              "      <td>51.000000</td>\n",
              "      <td>1.000000</td>\n",
              "      <td>1.000000</td>\n",
              "      <td>1743.000000</td>\n",
              "      <td>4.000000</td>\n",
              "      <td>4.000000</td>\n",
              "      <td>4.000000</td>\n",
              "      <td>...</td>\n",
              "      <td>4.000000</td>\n",
              "      <td>4.000000</td>\n",
              "      <td>4.000000</td>\n",
              "      <td>5.000000</td>\n",
              "      <td>4.000000</td>\n",
              "      <td>5.000000</td>\n",
              "      <td>4.000000</td>\n",
              "      <td>12.000000</td>\n",
              "      <td>13.000000</td>\n",
              "      <td>1.000000</td>\n",
              "    </tr>\n",
              "    <tr>\n",
              "      <th>max</th>\n",
              "      <td>129880.000000</td>\n",
              "      <td>1.000000</td>\n",
              "      <td>1.000000</td>\n",
              "      <td>85.000000</td>\n",
              "      <td>1.000000</td>\n",
              "      <td>2.000000</td>\n",
              "      <td>4983.000000</td>\n",
              "      <td>5.000000</td>\n",
              "      <td>5.000000</td>\n",
              "      <td>5.000000</td>\n",
              "      <td>...</td>\n",
              "      <td>5.000000</td>\n",
              "      <td>5.000000</td>\n",
              "      <td>5.000000</td>\n",
              "      <td>5.000000</td>\n",
              "      <td>5.000000</td>\n",
              "      <td>5.000000</td>\n",
              "      <td>5.000000</td>\n",
              "      <td>1592.000000</td>\n",
              "      <td>1584.000000</td>\n",
              "      <td>1.000000</td>\n",
              "    </tr>\n",
              "  </tbody>\n",
              "</table>\n",
              "<p>8 rows × 24 columns</p>\n",
              "</div>\n",
              "      <button class=\"colab-df-convert\" onclick=\"convertToInteractive('df-540f18a6-f12c-4bf2-8695-216ef2487d24')\"\n",
              "              title=\"Convert this dataframe to an interactive table.\"\n",
              "              style=\"display:none;\">\n",
              "        \n",
              "  <svg xmlns=\"http://www.w3.org/2000/svg\" height=\"24px\"viewBox=\"0 0 24 24\"\n",
              "       width=\"24px\">\n",
              "    <path d=\"M0 0h24v24H0V0z\" fill=\"none\"/>\n",
              "    <path d=\"M18.56 5.44l.94 2.06.94-2.06 2.06-.94-2.06-.94-.94-2.06-.94 2.06-2.06.94zm-11 1L8.5 8.5l.94-2.06 2.06-.94-2.06-.94L8.5 2.5l-.94 2.06-2.06.94zm10 10l.94 2.06.94-2.06 2.06-.94-2.06-.94-.94-2.06-.94 2.06-2.06.94z\"/><path d=\"M17.41 7.96l-1.37-1.37c-.4-.4-.92-.59-1.43-.59-.52 0-1.04.2-1.43.59L10.3 9.45l-7.72 7.72c-.78.78-.78 2.05 0 2.83L4 21.41c.39.39.9.59 1.41.59.51 0 1.02-.2 1.41-.59l7.78-7.78 2.81-2.81c.8-.78.8-2.07 0-2.86zM5.41 20L4 18.59l7.72-7.72 1.47 1.35L5.41 20z\"/>\n",
              "  </svg>\n",
              "      </button>\n",
              "      \n",
              "  <style>\n",
              "    .colab-df-container {\n",
              "      display:flex;\n",
              "      flex-wrap:wrap;\n",
              "      gap: 12px;\n",
              "    }\n",
              "\n",
              "    .colab-df-convert {\n",
              "      background-color: #E8F0FE;\n",
              "      border: none;\n",
              "      border-radius: 50%;\n",
              "      cursor: pointer;\n",
              "      display: none;\n",
              "      fill: #1967D2;\n",
              "      height: 32px;\n",
              "      padding: 0 0 0 0;\n",
              "      width: 32px;\n",
              "    }\n",
              "\n",
              "    .colab-df-convert:hover {\n",
              "      background-color: #E2EBFA;\n",
              "      box-shadow: 0px 1px 2px rgba(60, 64, 67, 0.3), 0px 1px 3px 1px rgba(60, 64, 67, 0.15);\n",
              "      fill: #174EA6;\n",
              "    }\n",
              "\n",
              "    [theme=dark] .colab-df-convert {\n",
              "      background-color: #3B4455;\n",
              "      fill: #D2E3FC;\n",
              "    }\n",
              "\n",
              "    [theme=dark] .colab-df-convert:hover {\n",
              "      background-color: #434B5C;\n",
              "      box-shadow: 0px 1px 3px 1px rgba(0, 0, 0, 0.15);\n",
              "      filter: drop-shadow(0px 1px 2px rgba(0, 0, 0, 0.3));\n",
              "      fill: #FFFFFF;\n",
              "    }\n",
              "  </style>\n",
              "\n",
              "      <script>\n",
              "        const buttonEl =\n",
              "          document.querySelector('#df-540f18a6-f12c-4bf2-8695-216ef2487d24 button.colab-df-convert');\n",
              "        buttonEl.style.display =\n",
              "          google.colab.kernel.accessAllowed ? 'block' : 'none';\n",
              "\n",
              "        async function convertToInteractive(key) {\n",
              "          const element = document.querySelector('#df-540f18a6-f12c-4bf2-8695-216ef2487d24');\n",
              "          const dataTable =\n",
              "            await google.colab.kernel.invokeFunction('convertToInteractive',\n",
              "                                                     [key], {});\n",
              "          if (!dataTable) return;\n",
              "\n",
              "          const docLinkHtml = 'Like what you see? Visit the ' +\n",
              "            '<a target=\"_blank\" href=https://colab.research.google.com/notebooks/data_table.ipynb>data table notebook</a>'\n",
              "            + ' to learn more about interactive tables.';\n",
              "          element.innerHTML = '';\n",
              "          dataTable['output_type'] = 'display_data';\n",
              "          await google.colab.output.renderOutput(dataTable, element);\n",
              "          const docLink = document.createElement('div');\n",
              "          docLink.innerHTML = docLinkHtml;\n",
              "          element.appendChild(docLink);\n",
              "        }\n",
              "      </script>\n",
              "    </div>\n",
              "  </div>\n",
              "  "
            ]
          },
          "metadata": {},
          "execution_count": 800
        }
      ]
    },
    {
      "cell_type": "markdown",
      "source": [
        "# **Correlations Founding**"
      ],
      "metadata": {
        "id": "r5v-j_-tzrwB"
      }
    },
    {
      "cell_type": "code",
      "source": [
        "co_matrix = dataset1.corr()"
      ],
      "metadata": {
        "id": "4h0HXV-Zzl0T"
      },
      "execution_count": 801,
      "outputs": []
    },
    {
      "cell_type": "code",
      "source": [
        "plt.figure(figsize = (20,10))\n",
        "snb.heatmap(co_matrix,annot=True)"
      ],
      "metadata": {
        "colab": {
          "base_uri": "https://localhost:8080/",
          "height": 774
        },
        "id": "6pesdiulzjll",
        "outputId": "feec5f2b-4cb3-4e66-ff57-409eb46bdeb6"
      },
      "execution_count": 802,
      "outputs": [
        {
          "output_type": "execute_result",
          "data": {
            "text/plain": [
              "<matplotlib.axes._subplots.AxesSubplot at 0x7f7e4d102a50>"
            ]
          },
          "metadata": {},
          "execution_count": 802
        },
        {
          "output_type": "display_data",
          "data": {
            "text/plain": [
              "<Figure size 1440x720 with 2 Axes>"
            ],
            "image/png": "[encoded data removed]"
          },
          "metadata": {
            "needs_background": "light"
          }
        }
      ]
    },
    {
      "cell_type": "code",
      "source": [
        "\"\"\"snb.pairplot(dataset1,hue ='satisfaction', vars =['Customer Type','Age', 'Type of Travel', 'Class',\n",
        " 'Flight Distance', 'Inflight wifi service' ,'Ease of Online booking'])\"\"\""
      ],
      "metadata": {
        "colab": {
          "base_uri": "https://localhost:8080/",
          "height": 36
        },
        "id": "N46xVFNf1LLq",
        "outputId": "1a728731-eb95-44b4-c5d9-219fb9aacedd"
      },
      "execution_count": 803,
      "outputs": [
        {
          "output_type": "execute_result",
          "data": {
            "text/plain": [
              "\"snb.pairplot(dataset1,hue ='satisfaction', vars =['Customer Type','Age', 'Type of Travel', 'Class',\\n 'Flight Distance', 'Inflight wifi service' ,'Ease of Online booking'])\""
            ],
            "application/vnd.google.colaboratory.intrinsic+json": {
              "type": "string"
            }
          },
          "metadata": {},
          "execution_count": 803
        }
      ]
    },
    {
      "cell_type": "code",
      "source": [
        "co_matrix['satisfaction'].sort_values(ascending = False)"
      ],
      "metadata": {
        "colab": {
          "base_uri": "https://localhost:8080/"
        },
        "id": "H6UjGubi315j",
        "outputId": "2f187b2b-50d1-41b1-cb82-40de16d24b50"
      },
      "execution_count": 804,
      "outputs": [
        {
          "output_type": "execute_result",
          "data": {
            "text/plain": [
              "satisfaction                         1.000000\n",
              "Online boarding                      0.503557\n",
              "Inflight entertainment               0.398059\n",
              "Seat comfort                         0.349459\n",
              "On-board service                     0.322383\n",
              "Leg room service                     0.313131\n",
              "Cleanliness                          0.305198\n",
              "Flight Distance                      0.298780\n",
              "Inflight wifi service                0.284245\n",
              "Baggage handling                     0.247749\n",
              "Inflight service                     0.244741\n",
              "Checkin service                      0.236174\n",
              "Food and drink                       0.209936\n",
              "Ease of Online booking               0.171705\n",
              "Age                                  0.137167\n",
              "id                                   0.013734\n",
              "Gender                               0.012211\n",
              "Gate location                        0.000682\n",
              "Departure Delay in Minutes          -0.050494\n",
              "Departure/Arrival time convenient   -0.051601\n",
              "Arrival Delay in Minutes            -0.057497\n",
              "Customer Type                       -0.187638\n",
              "Type of Travel                      -0.449000\n",
              "Class                               -0.449321\n",
              "Name: satisfaction, dtype: float64"
            ]
          },
          "metadata": {},
          "execution_count": 804
        }
      ]
    },
    {
      "cell_type": "markdown",
      "source": [
        "# **Recursive Feature Elimination (RFE)**"
      ],
      "metadata": {
        "id": "HcTcHbuE42_Y"
      }
    },
    {
      "cell_type": "code",
      "source": [
        "##spliting Dataset for rfe\n",
        "x_rfe = dataset1.iloc[:,0:-1]\n",
        "y_rfe = dataset1.iloc[:,-1]"
      ],
      "metadata": {
        "id": "OOeRs4JN42eT"
      },
      "execution_count": 805,
      "outputs": []
    },
    {
      "cell_type": "code",
      "source": [
        "x_rfe.keys()"
      ],
      "metadata": {
        "colab": {
          "base_uri": "https://localhost:8080/"
        },
        "id": "m1IuqdD05fEH",
        "outputId": "626ab165-42d8-4d40-ab94-4be4d64da70e"
      },
      "execution_count": 806,
      "outputs": [
        {
          "output_type": "execute_result",
          "data": {
            "text/plain": [
              "Index(['id', 'Gender', 'Customer Type', 'Age', 'Type of Travel', 'Class',\n",
              "       'Flight Distance', 'Inflight wifi service',\n",
              "       'Departure/Arrival time convenient', 'Ease of Online booking',\n",
              "       'Gate location', 'Food and drink', 'Online boarding', 'Seat comfort',\n",
              "       'Inflight entertainment', 'On-board service', 'Leg room service',\n",
              "       'Baggage handling', 'Checkin service', 'Inflight service',\n",
              "       'Cleanliness', 'Departure Delay in Minutes',\n",
              "       'Arrival Delay in Minutes'],\n",
              "      dtype='object')"
            ]
          },
          "metadata": {},
          "execution_count": 806
        }
      ]
    },
    {
      "cell_type": "code",
      "source": [
        "y_rfe"
      ],
      "metadata": {
        "colab": {
          "base_uri": "https://localhost:8080/"
        },
        "id": "bRBX_aK15S5b",
        "outputId": "a10772d7-c77c-4709-808d-be5d7b9fc9ec"
      },
      "execution_count": 807,
      "outputs": [
        {
          "output_type": "execute_result",
          "data": {
            "text/plain": [
              "0         0\n",
              "1         0\n",
              "2         1\n",
              "3         0\n",
              "4         1\n",
              "         ..\n",
              "103899    0\n",
              "103900    1\n",
              "103901    0\n",
              "103902    0\n",
              "103903    0\n",
              "Name: satisfaction, Length: 103904, dtype: int64"
            ]
          },
          "metadata": {},
          "execution_count": 807
        }
      ]
    },
    {
      "cell_type": "code",
      "source": [
        "from sklearn.model_selection import train_test_split"
      ],
      "metadata": {
        "id": "9LJ7XHOq6E-i"
      },
      "execution_count": 808,
      "outputs": []
    },
    {
      "cell_type": "code",
      "source": [
        "#spliting for train_test for RFE\n",
        "x_train_rfe,x_test_rfe,y_train_rfe,y_test_rfe = train_test_split(x_rfe,y_rfe,test_size = 0.2,random_state=0)"
      ],
      "metadata": {
        "id": "KSMT_byM6iOi"
      },
      "execution_count": 809,
      "outputs": []
    },
    {
      "cell_type": "code",
      "source": [
        "#Using DecisionTree for RFE\n",
        "from sklearn.tree import DecisionTreeClassifier\n",
        "model_dt = DecisionTreeClassifier(splitter = 'random',max_depth=2)"
      ],
      "metadata": {
        "id": "-x8pck_17AKC"
      },
      "execution_count": 810,
      "outputs": []
    },
    {
      "cell_type": "code",
      "source": [
        "from sklearn.feature_selection import RFE\n",
        "from operator import itemgetter\n",
        "\n",
        "rfe_select = RFE(model_dt,step = 1, n_features_to_select = 15)"
      ],
      "metadata": {
        "id": "1lFBoYV6724j"
      },
      "execution_count": 811,
      "outputs": []
    },
    {
      "cell_type": "code",
      "source": [
        "rfe_select.fit(x_train_rfe,y_train_rfe)"
      ],
      "metadata": {
        "colab": {
          "base_uri": "https://localhost:8080/"
        },
        "id": "fm6TGwdK8c_j",
        "outputId": "cafe27f5-08c4-4540-c19c-202b7792b97f"
      },
      "execution_count": 812,
      "outputs": [
        {
          "output_type": "execute_result",
          "data": {
            "text/plain": [
              "RFE(estimator=DecisionTreeClassifier(max_depth=2, splitter='random'),\n",
              "    n_features_to_select=15)"
            ]
          },
          "metadata": {},
          "execution_count": 812
        }
      ]
    },
    {
      "cell_type": "code",
      "source": [
        "rfe_select.transform(x_train_rfe)"
      ],
      "metadata": {
        "colab": {
          "base_uri": "https://localhost:8080/"
        },
        "id": "vH3Suuen8ovp",
        "outputId": "4696da64-2d38-4660-eaca-48ce12a952c0"
      },
      "execution_count": 813,
      "outputs": [
        {
          "output_type": "execute_result",
          "data": {
            "text/plain": [
              "array([[ 1.,  2.,  1., ...,  2.,  0.,  0.],\n",
              "       [ 1.,  2.,  5., ...,  4., 58., 30.],\n",
              "       [ 2.,  4.,  2., ...,  1., 46., 44.],\n",
              "       ...,\n",
              "       [ 1.,  5.,  5., ...,  3.,  0.,  0.],\n",
              "       [ 1.,  2.,  5., ...,  5.,  0.,  0.],\n",
              "       [ 1.,  3.,  5., ...,  2.,  0.,  0.]])"
            ]
          },
          "metadata": {},
          "execution_count": 813
        }
      ]
    },
    {
      "cell_type": "code",
      "source": [
        "rfe_pred = rfe_select.predict(x_test_rfe)"
      ],
      "metadata": {
        "id": "plE72B1w8zRF"
      },
      "execution_count": 814,
      "outputs": []
    },
    {
      "cell_type": "code",
      "source": [
        "print(f'Feature Remaining After apply RFE: {rfe_select.n_features_}')"
      ],
      "metadata": {
        "colab": {
          "base_uri": "https://localhost:8080/"
        },
        "id": "abkuZ9aL9IRF",
        "outputId": "62503396-3978-4e48-b85c-eea33a373b9a"
      },
      "execution_count": 815,
      "outputs": [
        {
          "output_type": "stream",
          "name": "stdout",
          "text": [
            "Feature Remaining After apply RFE: 15\n"
          ]
        }
      ]
    },
    {
      "cell_type": "markdown",
      "source": [
        "Reassembeling Dataframe"
      ],
      "metadata": {
        "id": "StLpUXiU9ohq"
      }
    },
    {
      "cell_type": "code",
      "source": [
        "rfe_drop_feature_index = np.where(rfe_select.support_ == False)\n",
        "\n",
        "rfe_data = dataset1.drop(dataset1.columns[rfe_drop_feature_index], axis= 1)\n",
        "rfe_main_data = pd.DataFrame(rfe_data, columns= rfe_data.keys())"
      ],
      "metadata": {
        "id": "1YzOAq7A9YNT"
      },
      "execution_count": 816,
      "outputs": []
    },
    {
      "cell_type": "code",
      "source": [
        "rfe_main_data.shape"
      ],
      "metadata": {
        "colab": {
          "base_uri": "https://localhost:8080/"
        },
        "id": "CztwIVd5-AcL",
        "outputId": "71d7014e-bf75-46a6-f697-ad28961b738f"
      },
      "execution_count": 817,
      "outputs": [
        {
          "output_type": "execute_result",
          "data": {
            "text/plain": [
              "(103904, 16)"
            ]
          },
          "metadata": {},
          "execution_count": 817
        }
      ]
    },
    {
      "cell_type": "code",
      "source": [
        "list(rfe_main_data.keys())"
      ],
      "metadata": {
        "colab": {
          "base_uri": "https://localhost:8080/"
        },
        "id": "yix--Ki8-F4o",
        "outputId": "fc2a5b34-5e3c-40ef-cccd-fbc256b3c378"
      },
      "execution_count": 818,
      "outputs": [
        {
          "output_type": "execute_result",
          "data": {
            "text/plain": [
              "['Class',\n",
              " 'Inflight wifi service',\n",
              " 'Departure/Arrival time convenient',\n",
              " 'Ease of Online booking',\n",
              " 'Gate location',\n",
              " 'Food and drink',\n",
              " 'Seat comfort',\n",
              " 'On-board service',\n",
              " 'Leg room service',\n",
              " 'Baggage handling',\n",
              " 'Checkin service',\n",
              " 'Inflight service',\n",
              " 'Cleanliness',\n",
              " 'Departure Delay in Minutes',\n",
              " 'Arrival Delay in Minutes',\n",
              " 'satisfaction']"
            ]
          },
          "metadata": {},
          "execution_count": 818
        }
      ]
    },
    {
      "cell_type": "markdown",
      "source": [
        "# **Univariate Apply**"
      ],
      "metadata": {
        "id": "_mlipZ6Q-QXw"
      }
    },
    {
      "cell_type": "code",
      "source": [
        "#Spliting dataset for univariate\n",
        "x_uni = rfe_main_data.iloc[:,0:-1]\n",
        "y_uni = rfe_main_data.iloc[:,-1].copy()"
      ],
      "metadata": {
        "id": "3hAiNkFh-UOu"
      },
      "execution_count": 819,
      "outputs": []
    },
    {
      "cell_type": "code",
      "source": [
        "#test_train_spliting for univariate\n",
        "x_uni_train,x_uni_test,y_uni_train,y_uni_test = train_test_split(x_uni,y_uni,test_size=0.2,random_state=43)"
      ],
      "metadata": {
        "id": "2W7tujDQ-okU"
      },
      "execution_count": 820,
      "outputs": []
    },
    {
      "cell_type": "code",
      "source": [
        "#Applying SelecKBest for finding best feaures via univariate\n",
        "from sklearn.feature_selection import SelectKBest\n",
        "from sklearn.feature_selection import f_classif"
      ],
      "metadata": {
        "id": "0ME0AG-O_qD9"
      },
      "execution_count": 821,
      "outputs": []
    },
    {
      "cell_type": "code",
      "source": [
        "best_feature = SelectKBest(score_func=f_classif, k =10)\n",
        "selected_features = best_feature.fit(x_uni_train,y_uni_train)\n",
        "x_train_selected = selected_features.transform(x_uni_train)"
      ],
      "metadata": {
        "id": "7L7HTOJdAGiJ"
      },
      "execution_count": 822,
      "outputs": []
    },
    {
      "cell_type": "code",
      "source": [
        "print(f'Size of Test Data After apply SelectKBest: {x_train_selected.shape}')"
      ],
      "metadata": {
        "colab": {
          "base_uri": "https://localhost:8080/"
        },
        "id": "2U-EfheaA_Md",
        "outputId": "53f6570b-9b4d-496b-993d-e1a74e20bd70"
      },
      "execution_count": 823,
      "outputs": [
        {
          "output_type": "stream",
          "name": "stdout",
          "text": [
            "Size of Test Data After apply SelectKBest: (83123, 10)\n"
          ]
        }
      ]
    },
    {
      "cell_type": "markdown",
      "source": [
        "Dataframe Reassembleing Again"
      ],
      "metadata": {
        "id": "2zXv3zq7Bclf"
      }
    },
    {
      "cell_type": "code",
      "source": [
        "selected_feature_name = list(rfe_main_data.columns.values)\n",
        "\n",
        "mask = best_feature.get_support()\n",
        "main_feature = []\n",
        "\n",
        "for b, f in zip(mask, selected_feature_name):\n",
        "  if b:\n",
        "    main_feature.append(f)\n",
        "\n",
        "main_feature.append('satisfaction')"
      ],
      "metadata": {
        "id": "3NQurzSYBYtX"
      },
      "execution_count": 824,
      "outputs": []
    },
    {
      "cell_type": "code",
      "source": [
        "#Final DATA\n",
        "final_data = pd.DataFrame(rfe_main_data, columns= main_feature)"
      ],
      "metadata": {
        "id": "ojqrEeXKB8Mk"
      },
      "execution_count": 825,
      "outputs": []
    },
    {
      "cell_type": "code",
      "source": [
        "final_data.head()"
      ],
      "metadata": {
        "colab": {
          "base_uri": "https://localhost:8080/",
          "height": 206
        },
        "id": "i0jSMo32CIAR",
        "outputId": "b89c143d-4cc5-4894-8798-5d1e522fdf9b"
      },
      "execution_count": 826,
      "outputs": [
        {
          "output_type": "execute_result",
          "data": {
            "text/plain": [
              "   Class  Inflight wifi service  Food and drink  Seat comfort  \\\n",
              "0      2                      3               5             5   \n",
              "1      0                      3               1             1   \n",
              "2      0                      2               5             5   \n",
              "3      0                      2               2             2   \n",
              "4      0                      3               4             5   \n",
              "\n",
              "   On-board service  Leg room service  Baggage handling  Checkin service  \\\n",
              "0                 4                 3                 4                4   \n",
              "1                 1                 5                 3                1   \n",
              "2                 4                 3                 4                4   \n",
              "3                 2                 5                 3                1   \n",
              "4                 3                 4                 4                3   \n",
              "\n",
              "   Inflight service  Cleanliness  satisfaction  \n",
              "0                 5            5             0  \n",
              "1                 4            1             0  \n",
              "2                 4            5             1  \n",
              "3                 4            2             0  \n",
              "4                 3            3             1  "
            ],
            "text/html": [
              "\n",
              "  <div id=\"df-46b691d2-0c99-46df-b6d3-64becf2eee56\">\n",
              "    <div class=\"colab-df-container\">\n",
              "      <div>\n",
              "<style scoped>\n",
              "    .dataframe tbody tr th:only-of-type {\n",
              "        vertical-align: middle;\n",
              "    }\n",
              "\n",
              "    .dataframe tbody tr th {\n",
              "        vertical-align: top;\n",
              "    }\n",
              "\n",
              "    .dataframe thead th {\n",
              "        text-align: right;\n",
              "    }\n",
              "</style>\n",
              "<table border=\"1\" class=\"dataframe\">\n",
              "  <thead>\n",
              "    <tr style=\"text-align: right;\">\n",
              "      <th></th>\n",
              "      <th>Class</th>\n",
              "      <th>Inflight wifi service</th>\n",
              "      <th>Food and drink</th>\n",
              "      <th>Seat comfort</th>\n",
              "      <th>On-board service</th>\n",
              "      <th>Leg room service</th>\n",
              "      <th>Baggage handling</th>\n",
              "      <th>Checkin service</th>\n",
              "      <th>Inflight service</th>\n",
              "      <th>Cleanliness</th>\n",
              "      <th>satisfaction</th>\n",
              "    </tr>\n",
              "  </thead>\n",
              "  <tbody>\n",
              "    <tr>\n",
              "      <th>0</th>\n",
              "      <td>2</td>\n",
              "      <td>3</td>\n",
              "      <td>5</td>\n",
              "      <td>5</td>\n",
              "      <td>4</td>\n",
              "      <td>3</td>\n",
              "      <td>4</td>\n",
              "      <td>4</td>\n",
              "      <td>5</td>\n",
              "      <td>5</td>\n",
              "      <td>0</td>\n",
              "    </tr>\n",
              "    <tr>\n",
              "      <th>1</th>\n",
              "      <td>0</td>\n",
              "      <td>3</td>\n",
              "      <td>1</td>\n",
              "      <td>1</td>\n",
              "      <td>1</td>\n",
              "      <td>5</td>\n",
              "      <td>3</td>\n",
              "      <td>1</td>\n",
              "      <td>4</td>\n",
              "      <td>1</td>\n",
              "      <td>0</td>\n",
              "    </tr>\n",
              "    <tr>\n",
              "      <th>2</th>\n",
              "      <td>0</td>\n",
              "      <td>2</td>\n",
              "      <td>5</td>\n",
              "      <td>5</td>\n",
              "      <td>4</td>\n",
              "      <td>3</td>\n",
              "      <td>4</td>\n",
              "      <td>4</td>\n",
              "      <td>4</td>\n",
              "      <td>5</td>\n",
              "      <td>1</td>\n",
              "    </tr>\n",
              "    <tr>\n",
              "      <th>3</th>\n",
              "      <td>0</td>\n",
              "      <td>2</td>\n",
              "      <td>2</td>\n",
              "      <td>2</td>\n",
              "      <td>2</td>\n",
              "      <td>5</td>\n",
              "      <td>3</td>\n",
              "      <td>1</td>\n",
              "      <td>4</td>\n",
              "      <td>2</td>\n",
              "      <td>0</td>\n",
              "    </tr>\n",
              "    <tr>\n",
              "      <th>4</th>\n",
              "      <td>0</td>\n",
              "      <td>3</td>\n",
              "      <td>4</td>\n",
              "      <td>5</td>\n",
              "      <td>3</td>\n",
              "      <td>4</td>\n",
              "      <td>4</td>\n",
              "      <td>3</td>\n",
              "      <td>3</td>\n",
              "      <td>3</td>\n",
              "      <td>1</td>\n",
              "    </tr>\n",
              "  </tbody>\n",
              "</table>\n",
              "</div>\n",
              "      <button class=\"colab-df-convert\" onclick=\"convertToInteractive('df-46b691d2-0c99-46df-b6d3-64becf2eee56')\"\n",
              "              title=\"Convert this dataframe to an interactive table.\"\n",
              "              style=\"display:none;\">\n",
              "        \n",
              "  <svg xmlns=\"http://www.w3.org/2000/svg\" height=\"24px\"viewBox=\"0 0 24 24\"\n",
              "       width=\"24px\">\n",
              "    <path d=\"M0 0h24v24H0V0z\" fill=\"none\"/>\n",
              "    <path d=\"M18.56 5.44l.94 2.06.94-2.06 2.06-.94-2.06-.94-.94-2.06-.94 2.06-2.06.94zm-11 1L8.5 8.5l.94-2.06 2.06-.94-2.06-.94L8.5 2.5l-.94 2.06-2.06.94zm10 10l.94 2.06.94-2.06 2.06-.94-2.06-.94-.94-2.06-.94 2.06-2.06.94z\"/><path d=\"M17.41 7.96l-1.37-1.37c-.4-.4-.92-.59-1.43-.59-.52 0-1.04.2-1.43.59L10.3 9.45l-7.72 7.72c-.78.78-.78 2.05 0 2.83L4 21.41c.39.39.9.59 1.41.59.51 0 1.02-.2 1.41-.59l7.78-7.78 2.81-2.81c.8-.78.8-2.07 0-2.86zM5.41 20L4 18.59l7.72-7.72 1.47 1.35L5.41 20z\"/>\n",
              "  </svg>\n",
              "      </button>\n",
              "      \n",
              "  <style>\n",
              "    .colab-df-container {\n",
              "      display:flex;\n",
              "      flex-wrap:wrap;\n",
              "      gap: 12px;\n",
              "    }\n",
              "\n",
              "    .colab-df-convert {\n",
              "      background-color: #E8F0FE;\n",
              "      border: none;\n",
              "      border-radius: 50%;\n",
              "      cursor: pointer;\n",
              "      display: none;\n",
              "      fill: #1967D2;\n",
              "      height: 32px;\n",
              "      padding: 0 0 0 0;\n",
              "      width: 32px;\n",
              "    }\n",
              "\n",
              "    .colab-df-convert:hover {\n",
              "      background-color: #E2EBFA;\n",
              "      box-shadow: 0px 1px 2px rgba(60, 64, 67, 0.3), 0px 1px 3px 1px rgba(60, 64, 67, 0.15);\n",
              "      fill: #174EA6;\n",
              "    }\n",
              "\n",
              "    [theme=dark] .colab-df-convert {\n",
              "      background-color: #3B4455;\n",
              "      fill: #D2E3FC;\n",
              "    }\n",
              "\n",
              "    [theme=dark] .colab-df-convert:hover {\n",
              "      background-color: #434B5C;\n",
              "      box-shadow: 0px 1px 3px 1px rgba(0, 0, 0, 0.15);\n",
              "      filter: drop-shadow(0px 1px 2px rgba(0, 0, 0, 0.3));\n",
              "      fill: #FFFFFF;\n",
              "    }\n",
              "  </style>\n",
              "\n",
              "      <script>\n",
              "        const buttonEl =\n",
              "          document.querySelector('#df-46b691d2-0c99-46df-b6d3-64becf2eee56 button.colab-df-convert');\n",
              "        buttonEl.style.display =\n",
              "          google.colab.kernel.accessAllowed ? 'block' : 'none';\n",
              "\n",
              "        async function convertToInteractive(key) {\n",
              "          const element = document.querySelector('#df-46b691d2-0c99-46df-b6d3-64becf2eee56');\n",
              "          const dataTable =\n",
              "            await google.colab.kernel.invokeFunction('convertToInteractive',\n",
              "                                                     [key], {});\n",
              "          if (!dataTable) return;\n",
              "\n",
              "          const docLinkHtml = 'Like what you see? Visit the ' +\n",
              "            '<a target=\"_blank\" href=https://colab.research.google.com/notebooks/data_table.ipynb>data table notebook</a>'\n",
              "            + ' to learn more about interactive tables.';\n",
              "          element.innerHTML = '';\n",
              "          dataTable['output_type'] = 'display_data';\n",
              "          await google.colab.output.renderOutput(dataTable, element);\n",
              "          const docLink = document.createElement('div');\n",
              "          docLink.innerHTML = docLinkHtml;\n",
              "          element.appendChild(docLink);\n",
              "        }\n",
              "      </script>\n",
              "    </div>\n",
              "  </div>\n",
              "  "
            ]
          },
          "metadata": {},
          "execution_count": 826
        }
      ]
    },
    {
      "cell_type": "code",
      "source": [
        "final_data.shape"
      ],
      "metadata": {
        "colab": {
          "base_uri": "https://localhost:8080/"
        },
        "id": "Yoa9hcN6CNRj",
        "outputId": "5332eabb-33d4-43fd-88a8-f7c90acc345b"
      },
      "execution_count": 827,
      "outputs": [
        {
          "output_type": "execute_result",
          "data": {
            "text/plain": [
              "(103904, 11)"
            ]
          },
          "metadata": {},
          "execution_count": 827
        }
      ]
    },
    {
      "cell_type": "code",
      "source": [
        "final_data.keys()"
      ],
      "metadata": {
        "colab": {
          "base_uri": "https://localhost:8080/"
        },
        "id": "mHFL8lReCOLg",
        "outputId": "10b5d033-1868-42af-abc9-71ff2e0080ba"
      },
      "execution_count": 828,
      "outputs": [
        {
          "output_type": "execute_result",
          "data": {
            "text/plain": [
              "Index(['Class', 'Inflight wifi service', 'Food and drink', 'Seat comfort',\n",
              "       'On-board service', 'Leg room service', 'Baggage handling',\n",
              "       'Checkin service', 'Inflight service', 'Cleanliness', 'satisfaction'],\n",
              "      dtype='object')"
            ]
          },
          "metadata": {},
          "execution_count": 828
        }
      ]
    },
    {
      "cell_type": "markdown",
      "source": [
        "# **Fiting our Model with selected Features**"
      ],
      "metadata": {
        "id": "OjEaNk_fDAud"
      }
    },
    {
      "cell_type": "markdown",
      "source": [
        "in this section we are going Fiting our Dataset with selected features which we are find from after applying Recursive Feature Elimination and univariate."
      ],
      "metadata": {
        "id": "MhSRY9XrDIBv"
      }
    },
    {
      "cell_type": "markdown",
      "source": [
        "**Spliting Dataset**"
      ],
      "metadata": {
        "id": "hW6CdD8LD6XN"
      }
    },
    {
      "cell_type": "code",
      "source": [
        "x = final_data.iloc[:,0:-1]\n",
        "y = final_data.iloc[:,-1]"
      ],
      "metadata": {
        "id": "JUsyD9y_Dq_U"
      },
      "execution_count": 829,
      "outputs": []
    },
    {
      "cell_type": "code",
      "source": [
        "x_train,x_test,y_train,y_test = train_test_split(x,y,test_size=0.2,random_state = 0)"
      ],
      "metadata": {
        "id": "ei8GOGn3D40v"
      },
      "execution_count": 830,
      "outputs": []
    },
    {
      "cell_type": "markdown",
      "source": [
        "### **Applying Logistic Regression**"
      ],
      "metadata": {
        "id": "gWHstSw1EPr3"
      }
    },
    {
      "cell_type": "code",
      "source": [
        "from sklearn.linear_model import LogisticRegression\n",
        "from sklearn.metrics import confusion_matrix\n",
        "from sklearn.metrics import accuracy_score\n",
        "from sklearn.metrics import classification_report"
      ],
      "metadata": {
        "id": "g8XyJ1OWEO_q"
      },
      "execution_count": 831,
      "outputs": []
    },
    {
      "cell_type": "code",
      "source": [
        "LR = LogisticRegression(random_state = 0)\n",
        "LR.fit(x_train,y_train)"
      ],
      "metadata": {
        "colab": {
          "base_uri": "https://localhost:8080/"
        },
        "id": "dZ_hnWMXEMNM",
        "outputId": "b3dc1226-63ca-4fab-8069-2095504a6d81"
      },
      "execution_count": 832,
      "outputs": [
        {
          "output_type": "execute_result",
          "data": {
            "text/plain": [
              "LogisticRegression(random_state=0)"
            ]
          },
          "metadata": {},
          "execution_count": 832
        }
      ]
    },
    {
      "cell_type": "code",
      "source": [
        "predict_LR = LR.predict(x_test)"
      ],
      "metadata": {
        "id": "-Sac5Jr-FRWA"
      },
      "execution_count": 833,
      "outputs": []
    },
    {
      "cell_type": "code",
      "source": [
        "predict_LR"
      ],
      "metadata": {
        "colab": {
          "base_uri": "https://localhost:8080/"
        },
        "id": "P5X5m7f_Fgk9",
        "outputId": "23d4cfc2-34e4-4446-e51b-fd24bed711b9"
      },
      "execution_count": 834,
      "outputs": [
        {
          "output_type": "execute_result",
          "data": {
            "text/plain": [
              "array([1, 0, 0, ..., 1, 0, 0])"
            ]
          },
          "metadata": {},
          "execution_count": 834
        }
      ]
    },
    {
      "cell_type": "code",
      "source": [
        "#Report of Logistic Regression\n",
        "print('Report of Logistic Regression')\n",
        "print('-----------------------------')\n",
        "print('Confusion Matrix: \\n',confusion_matrix(y_test,predict_LR))"
      ],
      "metadata": {
        "colab": {
          "base_uri": "https://localhost:8080/"
        },
        "id": "0-YXII53FkQs",
        "outputId": "b2d23071-02cf-40ec-b60a-838678d3f0cf"
      },
      "execution_count": 835,
      "outputs": [
        {
          "output_type": "stream",
          "name": "stdout",
          "text": [
            "Report of Logistic Regression\n",
            "-----------------------------\n",
            "Confusion Matrix: \n",
            " [[9885 1885]\n",
            " [2073 6938]]\n"
          ]
        }
      ]
    },
    {
      "cell_type": "code",
      "source": [
        "#Classification Report\n",
        "print(\"Classification Report: \\n\",classification_report(y_test,predict_LR))"
      ],
      "metadata": {
        "colab": {
          "base_uri": "https://localhost:8080/"
        },
        "id": "cvYY0VD4ImIb",
        "outputId": "51e51e4c-a9e7-4b26-ddcd-aa8a1e946251"
      },
      "execution_count": 836,
      "outputs": [
        {
          "output_type": "stream",
          "name": "stdout",
          "text": [
            "Classification Report: \n",
            "               precision    recall  f1-score   support\n",
            "\n",
            "           0       0.83      0.84      0.83     11770\n",
            "           1       0.79      0.77      0.78      9011\n",
            "\n",
            "    accuracy                           0.81     20781\n",
            "   macro avg       0.81      0.80      0.81     20781\n",
            "weighted avg       0.81      0.81      0.81     20781\n",
            "\n"
          ]
        }
      ]
    },
    {
      "cell_type": "markdown",
      "source": [
        "### **Applying RandomForestClassifier**"
      ],
      "metadata": {
        "id": "2YwitjI4JR2i"
      }
    },
    {
      "cell_type": "code",
      "source": [
        "from sklearn.ensemble import RandomForestClassifier"
      ],
      "metadata": {
        "id": "DKthvbzOQIDB"
      },
      "execution_count": 837,
      "outputs": []
    },
    {
      "cell_type": "code",
      "source": [
        "rf = RandomForestClassifier(n_estimators=100)"
      ],
      "metadata": {
        "id": "sQ9fpK1TQa_1"
      },
      "execution_count": 838,
      "outputs": []
    },
    {
      "cell_type": "code",
      "source": [
        "rf.fit(x_train,y_train)"
      ],
      "metadata": {
        "colab": {
          "base_uri": "https://localhost:8080/"
        },
        "id": "j3aMwPz1Qs0k",
        "outputId": "1c5ce77b-6151-4b2c-d39e-1d142ae8628b"
      },
      "execution_count": 839,
      "outputs": [
        {
          "output_type": "execute_result",
          "data": {
            "text/plain": [
              "RandomForestClassifier()"
            ]
          },
          "metadata": {},
          "execution_count": 839
        }
      ]
    },
    {
      "cell_type": "code",
      "source": [
        "predict_rf = rf.predict(x_test)"
      ],
      "metadata": {
        "id": "eAbCxFrDQzqk"
      },
      "execution_count": 840,
      "outputs": []
    },
    {
      "cell_type": "code",
      "source": [
        "predict_rf"
      ],
      "metadata": {
        "colab": {
          "base_uri": "https://localhost:8080/"
        },
        "id": "nkmEkd6kRFPq",
        "outputId": "8f7cbb9c-481e-4d0d-ddaf-37e78c399955"
      },
      "execution_count": 841,
      "outputs": [
        {
          "output_type": "execute_result",
          "data": {
            "text/plain": [
              "array([1, 0, 0, ..., 1, 0, 1])"
            ]
          },
          "metadata": {},
          "execution_count": 841
        }
      ]
    },
    {
      "cell_type": "code",
      "source": [
        "#Report of RandomForestClassfier\n",
        "print('Report of RandomForestClassfier')\n",
        "print('-----------------------------')\n",
        "print('Confusion Matrix: \\n',confusion_matrix(y_test,predict_rf))"
      ],
      "metadata": {
        "colab": {
          "base_uri": "https://localhost:8080/"
        },
        "id": "IjFqTXXXRbAz",
        "outputId": "199dda91-662f-44d9-c85a-e9cacca90c8e"
      },
      "execution_count": 842,
      "outputs": [
        {
          "output_type": "stream",
          "name": "stdout",
          "text": [
            "Report of RandomForestClassfier\n",
            "-----------------------------\n",
            "Confusion Matrix: \n",
            " [[10917   853]\n",
            " [  925  8086]]\n"
          ]
        }
      ]
    },
    {
      "cell_type": "code",
      "source": [
        "#Classification Report\n",
        "print(\"Classification Report: \\n\",classification_report(y_test,predict_rf))"
      ],
      "metadata": {
        "colab": {
          "base_uri": "https://localhost:8080/"
        },
        "id": "whSswt-zRlT2",
        "outputId": "1e9433b8-59ce-4a61-8791-aadfbac8a11e"
      },
      "execution_count": 843,
      "outputs": [
        {
          "output_type": "stream",
          "name": "stdout",
          "text": [
            "Classification Report: \n",
            "               precision    recall  f1-score   support\n",
            "\n",
            "           0       0.92      0.93      0.92     11770\n",
            "           1       0.90      0.90      0.90      9011\n",
            "\n",
            "    accuracy                           0.91     20781\n",
            "   macro avg       0.91      0.91      0.91     20781\n",
            "weighted avg       0.91      0.91      0.91     20781\n",
            "\n"
          ]
        }
      ]
    },
    {
      "cell_type": "markdown",
      "source": [
        "### **Applying DecisionTree**"
      ],
      "metadata": {
        "id": "IFsfsNgMTnUH"
      }
    },
    {
      "cell_type": "code",
      "source": [
        "from sklearn.tree import DecisionTreeClassifier"
      ],
      "metadata": {
        "id": "qLx6NLK-Tmg_"
      },
      "execution_count": 844,
      "outputs": []
    },
    {
      "cell_type": "code",
      "source": [
        "dt = DecisionTreeClassifier()"
      ],
      "metadata": {
        "id": "B54EwxX2T14-"
      },
      "execution_count": 845,
      "outputs": []
    },
    {
      "cell_type": "code",
      "source": [
        "dt = dt.fit(x_train,y_train)"
      ],
      "metadata": {
        "id": "R3jOk0hoT8yr"
      },
      "execution_count": 846,
      "outputs": []
    },
    {
      "cell_type": "code",
      "source": [
        "predict_dt = dt.predict(x_test)"
      ],
      "metadata": {
        "id": "9i3aYwZ4UFK5"
      },
      "execution_count": 847,
      "outputs": []
    },
    {
      "cell_type": "code",
      "source": [
        "predict_dt"
      ],
      "metadata": {
        "colab": {
          "base_uri": "https://localhost:8080/"
        },
        "id": "8yMWP5WaUP6r",
        "outputId": "17e23dd2-c6a3-4ed1-8c89-fb7fb7712e1e"
      },
      "execution_count": 848,
      "outputs": [
        {
          "output_type": "execute_result",
          "data": {
            "text/plain": [
              "array([1, 0, 0, ..., 1, 0, 0])"
            ]
          },
          "metadata": {},
          "execution_count": 848
        }
      ]
    },
    {
      "cell_type": "code",
      "source": [
        "#Report of DecisionTreeClassifier\n",
        "print('Report of DecisionTreeClassfier')\n",
        "print('-----------------------------')\n",
        "print('Confusion Matrix: \\n',confusion_matrix(y_test,predict_dt))"
      ],
      "metadata": {
        "colab": {
          "base_uri": "https://localhost:8080/"
        },
        "id": "eF1baTHPUTAC",
        "outputId": "f6b1d3c8-c808-48fe-d533-c8abe8947233"
      },
      "execution_count": 849,
      "outputs": [
        {
          "output_type": "stream",
          "name": "stdout",
          "text": [
            "Report of DecisionTreeClassfier\n",
            "-----------------------------\n",
            "Confusion Matrix: \n",
            " [[10814   956]\n",
            " [ 1094  7917]]\n"
          ]
        }
      ]
    },
    {
      "cell_type": "code",
      "source": [
        "#Classification Report\n",
        "print(\"Classification Report: \\n\",classification_report(y_test,predict_dt))"
      ],
      "metadata": {
        "colab": {
          "base_uri": "https://localhost:8080/"
        },
        "id": "xCUrBmWKUdMO",
        "outputId": "902e16f8-dfe5-4e3c-cbbc-ec2ff7eb9fa0"
      },
      "execution_count": 850,
      "outputs": [
        {
          "output_type": "stream",
          "name": "stdout",
          "text": [
            "Classification Report: \n",
            "               precision    recall  f1-score   support\n",
            "\n",
            "           0       0.91      0.92      0.91     11770\n",
            "           1       0.89      0.88      0.89      9011\n",
            "\n",
            "    accuracy                           0.90     20781\n",
            "   macro avg       0.90      0.90      0.90     20781\n",
            "weighted avg       0.90      0.90      0.90     20781\n",
            "\n"
          ]
        }
      ]
    },
    {
      "cell_type": "markdown",
      "source": [
        "### **Applying KNN**"
      ],
      "metadata": {
        "id": "98012A4yUsnf"
      }
    },
    {
      "cell_type": "code",
      "source": [
        "from sklearn.neighbors import KNeighborsClassifier"
      ],
      "metadata": {
        "id": "3OksH6itUwVT"
      },
      "execution_count": 851,
      "outputs": []
    },
    {
      "cell_type": "code",
      "source": [
        "kn = KNeighborsClassifier()"
      ],
      "metadata": {
        "id": "0Wr5cSmRU7IR"
      },
      "execution_count": 852,
      "outputs": []
    },
    {
      "cell_type": "code",
      "source": [
        "kn = kn.fit(x_train,y_train)"
      ],
      "metadata": {
        "id": "fi43sur0U--1"
      },
      "execution_count": 853,
      "outputs": []
    },
    {
      "cell_type": "code",
      "source": [
        "predict_kn = kn.predict(x_test)"
      ],
      "metadata": {
        "id": "Exs78FBDVGqB"
      },
      "execution_count": 854,
      "outputs": []
    },
    {
      "cell_type": "code",
      "source": [
        "#Report of KNeighborsClassifier\n",
        "print('Report of KNeighborsClassifier')\n",
        "print('-----------------------------')\n",
        "print('Confusion Matrix: \\n',confusion_matrix(y_test,predict_kn))"
      ],
      "metadata": {
        "colab": {
          "base_uri": "https://localhost:8080/"
        },
        "id": "euZdbIQdVSlF",
        "outputId": "b9a745bf-d857-4eaf-ab0d-8a3299ac0a16"
      },
      "execution_count": 855,
      "outputs": [
        {
          "output_type": "stream",
          "name": "stdout",
          "text": [
            "Report of KNeighborsClassifier\n",
            "-----------------------------\n",
            "Confusion Matrix: \n",
            " [[10943   827]\n",
            " [ 1314  7697]]\n"
          ]
        }
      ]
    },
    {
      "cell_type": "code",
      "source": [
        "#Classification Report\n",
        "print(\"Classification Report: \\n\",classification_report(y_test,predict_kn))"
      ],
      "metadata": {
        "colab": {
          "base_uri": "https://localhost:8080/"
        },
        "id": "kScyux48VeXj",
        "outputId": "3bb1b06d-e6b1-4ca6-b0f2-a212afc67433"
      },
      "execution_count": 856,
      "outputs": [
        {
          "output_type": "stream",
          "name": "stdout",
          "text": [
            "Classification Report: \n",
            "               precision    recall  f1-score   support\n",
            "\n",
            "           0       0.89      0.93      0.91     11770\n",
            "           1       0.90      0.85      0.88      9011\n",
            "\n",
            "    accuracy                           0.90     20781\n",
            "   macro avg       0.90      0.89      0.89     20781\n",
            "weighted avg       0.90      0.90      0.90     20781\n",
            "\n"
          ]
        }
      ]
    },
    {
      "cell_type": "markdown",
      "source": [
        "### **Applying Naive Bayes (Gaussian)**"
      ],
      "metadata": {
        "id": "wqKeQfYPl2HR"
      }
    },
    {
      "cell_type": "code",
      "source": [
        "from sklearn.naive_bayes import GaussianNB"
      ],
      "metadata": {
        "id": "otqMuMRfl84Z"
      },
      "execution_count": 857,
      "outputs": []
    },
    {
      "cell_type": "code",
      "source": [
        "gnb = GaussianNB()"
      ],
      "metadata": {
        "id": "jZpasXMxmFiJ"
      },
      "execution_count": 858,
      "outputs": []
    },
    {
      "cell_type": "code",
      "source": [
        "gnb.fit(x_train,y_train)"
      ],
      "metadata": {
        "colab": {
          "base_uri": "https://localhost:8080/"
        },
        "id": "Vqispt-ZmKhA",
        "outputId": "c0b885a4-351b-4363-de8c-8f113f110b72"
      },
      "execution_count": 859,
      "outputs": [
        {
          "output_type": "execute_result",
          "data": {
            "text/plain": [
              "GaussianNB()"
            ]
          },
          "metadata": {},
          "execution_count": 859
        }
      ]
    },
    {
      "cell_type": "code",
      "source": [
        "predict_gnb = gnb.predict(x_test)"
      ],
      "metadata": {
        "id": "D54etWOsmPA5"
      },
      "execution_count": 860,
      "outputs": []
    },
    {
      "cell_type": "code",
      "source": [
        "#Report of GaussianNaiveBayes\n",
        "print('Report of GaussianNaiveBayes')\n",
        "print('-----------------------------')\n",
        "print('Confusion Matrix: \\n',confusion_matrix(y_test,predict_gnb))"
      ],
      "metadata": {
        "colab": {
          "base_uri": "https://localhost:8080/"
        },
        "id": "zBHpz7FjmV2Y",
        "outputId": "95ef6a8e-87dd-4f69-99a0-412ac4a2e2b3"
      },
      "execution_count": 861,
      "outputs": [
        {
          "output_type": "stream",
          "name": "stdout",
          "text": [
            "Report of GaussianNaiveBayes\n",
            "-----------------------------\n",
            "Confusion Matrix: \n",
            " [[9279 2491]\n",
            " [1866 7145]]\n"
          ]
        }
      ]
    },
    {
      "cell_type": "code",
      "source": [
        "#Classification Report\n",
        "print(\"Classification Report: \\n\",classification_report(y_test,predict_gnb))"
      ],
      "metadata": {
        "colab": {
          "base_uri": "https://localhost:8080/"
        },
        "id": "qDTes_-Fmmj6",
        "outputId": "5d53e12d-d1b3-4900-c971-a99118656b6f"
      },
      "execution_count": 862,
      "outputs": [
        {
          "output_type": "stream",
          "name": "stdout",
          "text": [
            "Classification Report: \n",
            "               precision    recall  f1-score   support\n",
            "\n",
            "           0       0.83      0.79      0.81     11770\n",
            "           1       0.74      0.79      0.77      9011\n",
            "\n",
            "    accuracy                           0.79     20781\n",
            "   macro avg       0.79      0.79      0.79     20781\n",
            "weighted avg       0.79      0.79      0.79     20781\n",
            "\n"
          ]
        }
      ]
    },
    {
      "cell_type": "markdown",
      "source": [
        "### **Accuracy Report of Model fiting**"
      ],
      "metadata": {
        "id": "_XrRB10FNCjQ"
      }
    },
    {
      "cell_type": "code",
      "source": [
        "#Accuracy Report\n",
        "print(f\"Accuracy for Logistic Regression: {round(accuracy_score(y_test,predict_LR) * 100, 2)}%\\n\") \n",
        "print(f\"Accuracy for RandomForestClassifier: {round(accuracy_score(y_test,predict_rf) * 100, 2)}%\\n\")\n",
        "print(f\"Accuracy for DecisionTreeClassifier: {round(accuracy_score(y_test,predict_dt) * 100, 2)}%\\n\")\n",
        "print(f\"Accuracy for KNeighboClassifier: {round(accuracy_score(y_test,predict_kn) * 100, 2)}%\\n\")\n",
        "print(f\"Accuracy for GaussianNaiveBayes: {round(accuracy_score(y_test,predict_gnb) * 100, 2)}%\\n\")"
      ],
      "metadata": {
        "colab": {
          "base_uri": "https://localhost:8080/"
        },
        "id": "8pm1gGKwHDZB",
        "outputId": "da12ae8a-836d-48cc-a29a-dc08df9424c0"
      },
      "execution_count": 863,
      "outputs": [
        {
          "output_type": "stream",
          "name": "stdout",
          "text": [
            "Accuracy for Logistic Regression: 80.95%\n",
            "\n",
            "Accuracy for RandomForestClassifier: 91.44%\n",
            "\n",
            "Accuracy for DecisionTreeClassifier: 90.14%\n",
            "\n",
            "Accuracy for KNeighboClassifier: 89.7%\n",
            "\n",
            "Accuracy for GaussianNaiveBayes: 79.03%\n",
            "\n"
          ]
        }
      ]
    },
    {
      "cell_type": "markdown",
      "source": [
        "Comparing Model using ROC Curve and AOC Score"
      ],
      "metadata": {
        "id": "J_8hgRZ-nGzJ"
      }
    },
    {
      "cell_type": "code",
      "source": [
        "from sklearn import metrics\n",
        "from sklearn.ensemble import RandomForestClassifier"
      ],
      "metadata": {
        "id": "9xZKgOnMuSQM"
      },
      "execution_count": 864,
      "outputs": []
    },
    {
      "cell_type": "code",
      "source": [
        "\n",
        "#set up plotting area\n",
        "plt.figure(0).clf()\n",
        "\n",
        "#fit logistic regression model and plot ROC curve\n",
        "#fit logistic regression model and plot ROC curve\n",
        "fpr, tpr, _ = metrics.roc_curve(y_test, predict_LR)\n",
        "auc = round(metrics.roc_auc_score(y_test, predict_LR), 4)\n",
        "plt.plot(fpr,tpr,label=\"Logistic Regression, AUC=\"+str(auc))\n",
        "\n",
        "\n",
        "#fit RandomForestClassifier model and plot ROC curve\n",
        "\n",
        "f_pr,t_pr, _ = metrics.roc_curve(y_test,predict_rf) \n",
        "auc = round(metrics.roc_auc_score(y_test,predict_rf),4)\n",
        "plt.plot(f_pr,t_pr,label='RandomForest Classifier, AUC='+str(auc))\n",
        "\n",
        "\n",
        "#fit DecisionTreeClassifier model and plot ROC curve\n",
        "f_pr1,t_pr1, _ = metrics.roc_curve(y_test,predict_dt) \n",
        "auc = round(metrics.roc_auc_score(y_test,predict_dt),4)\n",
        "plt.plot(f_pr1,t_pr1,label='DecisionTreeClassifier, AUC='+str(auc))\n",
        "\n",
        "\n",
        "#fit KNN model and plot ROC curve\n",
        "f_pr2,t_pr2, _ = metrics.roc_curve(y_test,predict_kn) \n",
        "auc = round(metrics.roc_auc_score(y_test,predict_kn),4)\n",
        "plt.plot(f_pr2,t_pr2,label='KNeighborsClassifier, AUC='+str(auc))\n",
        "\n",
        "#fit GaussianNaiveBayes model and plot ROC curve\n",
        "f_pr3,t_pr3, _ = metrics.roc_curve(y_test,predict_gnb) \n",
        "auc = round(metrics.roc_auc_score(y_test,predict_gnb),4)\n",
        "plt.plot(f_pr3,t_pr3,label='GaussianNaiveBayes, AUC='+str(auc))\n",
        "\n",
        "\n",
        "#add legend\n",
        "plt.legend()"
      ],
      "metadata": {
        "id": "_Qu8_n_cHdLZ",
        "colab": {
          "base_uri": "https://localhost:8080/",
          "height": 282
        },
        "outputId": "3fb367e8-4730-443a-d56b-d932d83f2508"
      },
      "execution_count": 865,
      "outputs": [
        {
          "output_type": "execute_result",
          "data": {
            "text/plain": [
              "<matplotlib.legend.Legend at 0x7f7e54235d90>"
            ]
          },
          "metadata": {},
          "execution_count": 865
        },
        {
          "output_type": "display_data",
          "data": {
            "text/plain": [
              "<Figure size 432x288 with 1 Axes>"
            ],
            "image/png": "[encoded data removed]"
          },
          "metadata": {
            "needs_background": "light"
          }
        }
      ]
    },
    {
      "cell_type": "markdown",
      "source": [
        "## **Import Second Dataset**"
      ],
      "metadata": {
        "id": "gyVfYSIM67YV"
      }
    },
    {
      "cell_type": "code",
      "source": [
        "dataset2 = pd.read_csv('/content/drive/MyDrive/Colab Notebooks/DATA MINING/Satisfaction/edited_test.csv')"
      ],
      "metadata": {
        "id": "kn2SazOY7CuX"
      },
      "execution_count": 866,
      "outputs": []
    },
    {
      "cell_type": "markdown",
      "source": [
        "LabelEncoding"
      ],
      "metadata": {
        "id": "Tgyggr25O3W8"
      }
    },
    {
      "cell_type": "code",
      "source": [
        "from sklearn.preprocessing import LabelEncoder\n",
        "l_encoder = LabelEncoder()\n",
        "dataset2['Type of Travel'] = l_encoder.fit_transform(dataset2['Type of Travel'])\n",
        "dataset2['satisfaction'] = l_encoder.fit_transform(dataset2['satisfaction'])\n",
        "dataset2['Class'] = l_encoder.fit_transform(dataset2['Class'])"
      ],
      "metadata": {
        "id": "OXmz3UPJO5SL"
      },
      "execution_count": 867,
      "outputs": []
    },
    {
      "cell_type": "markdown",
      "source": [
        "**Common Attribute Search**"
      ],
      "metadata": {
        "id": "DVe13lJ_76pd"
      }
    },
    {
      "cell_type": "code",
      "source": [
        "#Common Attribute\n",
        "def common(a, b):\n",
        "  return list(set(a) & set(b))"
      ],
      "metadata": {
        "id": "6497HnEZ7INU"
      },
      "execution_count": 868,
      "outputs": []
    },
    {
      "cell_type": "code",
      "source": [
        "final_data_attr = list(final_data.keys())\n",
        "outer_data_attr = list(dataset2.keys())"
      ],
      "metadata": {
        "id": "SptQ9BBt7oSM"
      },
      "execution_count": 869,
      "outputs": []
    },
    {
      "cell_type": "code",
      "source": [
        "common_attr = common(final_data_attr, outer_data_attr)"
      ],
      "metadata": {
        "id": "qJt4LwQ273vw"
      },
      "execution_count": 870,
      "outputs": []
    },
    {
      "cell_type": "code",
      "source": [
        "len(common_attr)"
      ],
      "metadata": {
        "colab": {
          "base_uri": "https://localhost:8080/"
        },
        "id": "0i7-kdKu8KU1",
        "outputId": "d0399f44-a02e-479a-aa6c-e688a739f063"
      },
      "execution_count": 871,
      "outputs": [
        {
          "output_type": "execute_result",
          "data": {
            "text/plain": [
              "11"
            ]
          },
          "metadata": {},
          "execution_count": 871
        }
      ]
    },
    {
      "cell_type": "markdown",
      "source": [
        "**Missing Attribute Handle**"
      ],
      "metadata": {
        "id": "Y3EL3Gyi96TE"
      }
    },
    {
      "cell_type": "code",
      "source": [
        "add_attr = list(set(list(x_train.keys())) - set(common_attr))\n",
        "\n",
        "common_attr.extend(add_attr)"
      ],
      "metadata": {
        "id": "Kiupv1j48-w9"
      },
      "execution_count": 872,
      "outputs": []
    },
    {
      "cell_type": "code",
      "source": [
        "common_attr"
      ],
      "metadata": {
        "colab": {
          "base_uri": "https://localhost:8080/"
        },
        "id": "jdTeaZhW9Fh7",
        "outputId": "cdc9b0e2-4339-433b-948a-fd308aeee511"
      },
      "execution_count": 873,
      "outputs": [
        {
          "output_type": "execute_result",
          "data": {
            "text/plain": [
              "['On-board service',\n",
              " 'Class',\n",
              " 'Leg room service',\n",
              " 'Food and drink',\n",
              " 'Checkin service',\n",
              " 'Inflight wifi service',\n",
              " 'Baggage handling',\n",
              " 'Inflight service',\n",
              " 'Seat comfort',\n",
              " 'Cleanliness',\n",
              " 'satisfaction']"
            ]
          },
          "metadata": {},
          "execution_count": 873
        }
      ]
    },
    {
      "cell_type": "markdown",
      "source": [
        "**DATAFRAME**"
      ],
      "metadata": {
        "id": "VcFBhypN90QN"
      }
    },
    {
      "cell_type": "code",
      "source": [
        "test_data = pd.DataFrame(dataset2,columns= common_attr)"
      ],
      "metadata": {
        "id": "bZeQ5qcF9fcD"
      },
      "execution_count": 874,
      "outputs": []
    },
    {
      "cell_type": "code",
      "source": [
        "test_data.head()"
      ],
      "metadata": {
        "colab": {
          "base_uri": "https://localhost:8080/",
          "height": 206
        },
        "id": "GQZZmFvUDqJp",
        "outputId": "b609e52c-9adc-45dc-b923-c46949de61ea"
      },
      "execution_count": 875,
      "outputs": [
        {
          "output_type": "execute_result",
          "data": {
            "text/plain": [
              "   On-board service  Class  Leg room service  Food and drink  Checkin service  \\\n",
              "0                 5      1                 5               3                2   \n",
              "1                 4      0                 4               5                3   \n",
              "2                 4      1                 1               2                2   \n",
              "3                 1      0                 1               3                3   \n",
              "4                 2      1                 2               4                4   \n",
              "\n",
              "   Inflight wifi service  Baggage handling  Inflight service  Seat comfort  \\\n",
              "0                      5                 5                 5             3   \n",
              "1                      1                 4                 4             5   \n",
              "2                      2                 3                 2             2   \n",
              "3                      0                 1                 1             4   \n",
              "4                      2                 2                 2             2   \n",
              "\n",
              "   Cleanliness  satisfaction  \n",
              "0            5             1  \n",
              "1            5             1  \n",
              "2            2             0  \n",
              "3            4             1  \n",
              "4            4             1  "
            ],
            "text/html": [
              "\n",
              "  <div id=\"df-a468a39b-a12e-47e3-b23d-3137237ae2cc\">\n",
              "    <div class=\"colab-df-container\">\n",
              "      <div>\n",
              "<style scoped>\n",
              "    .dataframe tbody tr th:only-of-type {\n",
              "        vertical-align: middle;\n",
              "    }\n",
              "\n",
              "    .dataframe tbody tr th {\n",
              "        vertical-align: top;\n",
              "    }\n",
              "\n",
              "    .dataframe thead th {\n",
              "        text-align: right;\n",
              "    }\n",
              "</style>\n",
              "<table border=\"1\" class=\"dataframe\">\n",
              "  <thead>\n",
              "    <tr style=\"text-align: right;\">\n",
              "      <th></th>\n",
              "      <th>On-board service</th>\n",
              "      <th>Class</th>\n",
              "      <th>Leg room service</th>\n",
              "      <th>Food and drink</th>\n",
              "      <th>Checkin service</th>\n",
              "      <th>Inflight wifi service</th>\n",
              "      <th>Baggage handling</th>\n",
              "      <th>Inflight service</th>\n",
              "      <th>Seat comfort</th>\n",
              "      <th>Cleanliness</th>\n",
              "      <th>satisfaction</th>\n",
              "    </tr>\n",
              "  </thead>\n",
              "  <tbody>\n",
              "    <tr>\n",
              "      <th>0</th>\n",
              "      <td>5</td>\n",
              "      <td>1</td>\n",
              "      <td>5</td>\n",
              "      <td>3</td>\n",
              "      <td>2</td>\n",
              "      <td>5</td>\n",
              "      <td>5</td>\n",
              "      <td>5</td>\n",
              "      <td>3</td>\n",
              "      <td>5</td>\n",
              "      <td>1</td>\n",
              "    </tr>\n",
              "    <tr>\n",
              "      <th>1</th>\n",
              "      <td>4</td>\n",
              "      <td>0</td>\n",
              "      <td>4</td>\n",
              "      <td>5</td>\n",
              "      <td>3</td>\n",
              "      <td>1</td>\n",
              "      <td>4</td>\n",
              "      <td>4</td>\n",
              "      <td>5</td>\n",
              "      <td>5</td>\n",
              "      <td>1</td>\n",
              "    </tr>\n",
              "    <tr>\n",
              "      <th>2</th>\n",
              "      <td>4</td>\n",
              "      <td>1</td>\n",
              "      <td>1</td>\n",
              "      <td>2</td>\n",
              "      <td>2</td>\n",
              "      <td>2</td>\n",
              "      <td>3</td>\n",
              "      <td>2</td>\n",
              "      <td>2</td>\n",
              "      <td>2</td>\n",
              "      <td>0</td>\n",
              "    </tr>\n",
              "    <tr>\n",
              "      <th>3</th>\n",
              "      <td>1</td>\n",
              "      <td>0</td>\n",
              "      <td>1</td>\n",
              "      <td>3</td>\n",
              "      <td>3</td>\n",
              "      <td>0</td>\n",
              "      <td>1</td>\n",
              "      <td>1</td>\n",
              "      <td>4</td>\n",
              "      <td>4</td>\n",
              "      <td>1</td>\n",
              "    </tr>\n",
              "    <tr>\n",
              "      <th>4</th>\n",
              "      <td>2</td>\n",
              "      <td>1</td>\n",
              "      <td>2</td>\n",
              "      <td>4</td>\n",
              "      <td>4</td>\n",
              "      <td>2</td>\n",
              "      <td>2</td>\n",
              "      <td>2</td>\n",
              "      <td>2</td>\n",
              "      <td>4</td>\n",
              "      <td>1</td>\n",
              "    </tr>\n",
              "  </tbody>\n",
              "</table>\n",
              "</div>\n",
              "      <button class=\"colab-df-convert\" onclick=\"convertToInteractive('df-a468a39b-a12e-47e3-b23d-3137237ae2cc')\"\n",
              "              title=\"Convert this dataframe to an interactive table.\"\n",
              "              style=\"display:none;\">\n",
              "        \n",
              "  <svg xmlns=\"http://www.w3.org/2000/svg\" height=\"24px\"viewBox=\"0 0 24 24\"\n",
              "       width=\"24px\">\n",
              "    <path d=\"M0 0h24v24H0V0z\" fill=\"none\"/>\n",
              "    <path d=\"M18.56 5.44l.94 2.06.94-2.06 2.06-.94-2.06-.94-.94-2.06-.94 2.06-2.06.94zm-11 1L8.5 8.5l.94-2.06 2.06-.94-2.06-.94L8.5 2.5l-.94 2.06-2.06.94zm10 10l.94 2.06.94-2.06 2.06-.94-2.06-.94-.94-2.06-.94 2.06-2.06.94z\"/><path d=\"M17.41 7.96l-1.37-1.37c-.4-.4-.92-.59-1.43-.59-.52 0-1.04.2-1.43.59L10.3 9.45l-7.72 7.72c-.78.78-.78 2.05 0 2.83L4 21.41c.39.39.9.59 1.41.59.51 0 1.02-.2 1.41-.59l7.78-7.78 2.81-2.81c.8-.78.8-2.07 0-2.86zM5.41 20L4 18.59l7.72-7.72 1.47 1.35L5.41 20z\"/>\n",
              "  </svg>\n",
              "      </button>\n",
              "      \n",
              "  <style>\n",
              "    .colab-df-container {\n",
              "      display:flex;\n",
              "      flex-wrap:wrap;\n",
              "      gap: 12px;\n",
              "    }\n",
              "\n",
              "    .colab-df-convert {\n",
              "      background-color: #E8F0FE;\n",
              "      border: none;\n",
              "      border-radius: 50%;\n",
              "      cursor: pointer;\n",
              "      display: none;\n",
              "      fill: #1967D2;\n",
              "      height: 32px;\n",
              "      padding: 0 0 0 0;\n",
              "      width: 32px;\n",
              "    }\n",
              "\n",
              "    .colab-df-convert:hover {\n",
              "      background-color: #E2EBFA;\n",
              "      box-shadow: 0px 1px 2px rgba(60, 64, 67, 0.3), 0px 1px 3px 1px rgba(60, 64, 67, 0.15);\n",
              "      fill: #174EA6;\n",
              "    }\n",
              "\n",
              "    [theme=dark] .colab-df-convert {\n",
              "      background-color: #3B4455;\n",
              "      fill: #D2E3FC;\n",
              "    }\n",
              "\n",
              "    [theme=dark] .colab-df-convert:hover {\n",
              "      background-color: #434B5C;\n",
              "      box-shadow: 0px 1px 3px 1px rgba(0, 0, 0, 0.15);\n",
              "      filter: drop-shadow(0px 1px 2px rgba(0, 0, 0, 0.3));\n",
              "      fill: #FFFFFF;\n",
              "    }\n",
              "  </style>\n",
              "\n",
              "      <script>\n",
              "        const buttonEl =\n",
              "          document.querySelector('#df-a468a39b-a12e-47e3-b23d-3137237ae2cc button.colab-df-convert');\n",
              "        buttonEl.style.display =\n",
              "          google.colab.kernel.accessAllowed ? 'block' : 'none';\n",
              "\n",
              "        async function convertToInteractive(key) {\n",
              "          const element = document.querySelector('#df-a468a39b-a12e-47e3-b23d-3137237ae2cc');\n",
              "          const dataTable =\n",
              "            await google.colab.kernel.invokeFunction('convertToInteractive',\n",
              "                                                     [key], {});\n",
              "          if (!dataTable) return;\n",
              "\n",
              "          const docLinkHtml = 'Like what you see? Visit the ' +\n",
              "            '<a target=\"_blank\" href=https://colab.research.google.com/notebooks/data_table.ipynb>data table notebook</a>'\n",
              "            + ' to learn more about interactive tables.';\n",
              "          element.innerHTML = '';\n",
              "          dataTable['output_type'] = 'display_data';\n",
              "          await google.colab.output.renderOutput(dataTable, element);\n",
              "          const docLink = document.createElement('div');\n",
              "          docLink.innerHTML = docLinkHtml;\n",
              "          element.appendChild(docLink);\n",
              "        }\n",
              "      </script>\n",
              "    </div>\n",
              "  </div>\n",
              "  "
            ]
          },
          "metadata": {},
          "execution_count": 875
        }
      ]
    },
    {
      "cell_type": "markdown",
      "source": [
        "**Filling Missing Values**"
      ],
      "metadata": {
        "id": "5H9GojzBD2Os"
      }
    },
    {
      "cell_type": "code",
      "source": [
        "test_data.isnull().sum()"
      ],
      "metadata": {
        "colab": {
          "base_uri": "https://localhost:8080/"
        },
        "id": "6FhienbtDz1Q",
        "outputId": "af7a3933-2288-4b89-969d-8ea1919d3a9c"
      },
      "execution_count": 876,
      "outputs": [
        {
          "output_type": "execute_result",
          "data": {
            "text/plain": [
              "On-board service         0\n",
              "Class                    0\n",
              "Leg room service         0\n",
              "Food and drink           0\n",
              "Checkin service          0\n",
              "Inflight wifi service    0\n",
              "Baggage handling         0\n",
              "Inflight service         0\n",
              "Seat comfort             0\n",
              "Cleanliness              0\n",
              "satisfaction             0\n",
              "dtype: int64"
            ]
          },
          "metadata": {},
          "execution_count": 876
        }
      ]
    },
    {
      "cell_type": "markdown",
      "source": [
        "No Missing value Found"
      ],
      "metadata": {
        "id": "EhJ43iTBEP14"
      }
    },
    {
      "cell_type": "markdown",
      "source": [
        "### **Spliting Dataset 2**"
      ],
      "metadata": {
        "id": "CVBoloYxEeUQ"
      }
    },
    {
      "cell_type": "code",
      "source": [
        "x_test_data = dataset2.iloc[:,0:-1]\n",
        "y_test_data = dataset2.iloc[:,-1]"
      ],
      "metadata": {
        "id": "VuUvfZ0qEVDA"
      },
      "execution_count": 877,
      "outputs": []
    },
    {
      "cell_type": "code",
      "source": [
        "x_test_data = x_test_data.reindex(x_train.columns, axis= 1)"
      ],
      "metadata": {
        "id": "JehshwrYE-UH"
      },
      "execution_count": 878,
      "outputs": []
    },
    {
      "cell_type": "markdown",
      "source": [
        "Fitting Logistic Regression For Dataset2"
      ],
      "metadata": {
        "id": "RzTU6DMAFDOw"
      }
    },
    {
      "cell_type": "code",
      "source": [
        "LR_predict_dt2 = LR.predict(x_test_data)\n",
        "LR_dt2_accuracy = metrics.accuracy_score(y_test_data, LR_predict_dt2)"
      ],
      "metadata": {
        "id": "enM1PAAIFA4f"
      },
      "execution_count": 879,
      "outputs": []
    },
    {
      "cell_type": "code",
      "source": [
        "print(f\"Accuracy for Logistic Regression in Dataset1: {round(accuracy_score(y_test,predict_LR) * 100, 2)}%\\n\") \n",
        "print(f\"Accuracy for Logistic Regression in Dataset2: {round(LR_dt2_accuracy * 100, 2)}%\\n\")"
      ],
      "metadata": {
        "colab": {
          "base_uri": "https://localhost:8080/"
        },
        "id": "6FZq0cioQVjy",
        "outputId": "a687be30-9926-4ca2-bb30-26a6418ca83d"
      },
      "execution_count": 880,
      "outputs": [
        {
          "output_type": "stream",
          "name": "stdout",
          "text": [
            "Accuracy for Logistic Regression in Dataset1: 80.95%\n",
            "\n",
            "Accuracy for Logistic Regression in Dataset2: 80.51%\n",
            "\n"
          ]
        }
      ]
    },
    {
      "cell_type": "markdown",
      "source": [
        "Fitting RandomForestClassifier for DATASET 2"
      ],
      "metadata": {
        "id": "PzkjVhdzRp7B"
      }
    },
    {
      "cell_type": "code",
      "source": [
        "rf_predict_dt2 = rf.predict(x_test_data)\n",
        "rf_dt2_accuracy = metrics.accuracy_score(y_test_data,rf_predict_dt2)"
      ],
      "metadata": {
        "id": "T-B8vG1yRv2D"
      },
      "execution_count": 881,
      "outputs": []
    },
    {
      "cell_type": "code",
      "source": [
        "print(f\"Accuracy for RandomForestClassifier in Dataset1: {round(accuracy_score(y_test,predict_rf) * 100, 2)}%\\n\")\n",
        "print(f\"Accuracy for RandomForestClassifier in Dataset2: {round(rf_dt2_accuracy * 100, 2)}%\\n\")"
      ],
      "metadata": {
        "colab": {
          "base_uri": "https://localhost:8080/"
        },
        "id": "_EEbXEbKYbiJ",
        "outputId": "e732c914-a927-4f36-a5dd-b6ccb39c4b9a"
      },
      "execution_count": 882,
      "outputs": [
        {
          "output_type": "stream",
          "name": "stdout",
          "text": [
            "Accuracy for RandomForestClassifier in Dataset1: 91.44%\n",
            "\n",
            "Accuracy for RandomForestClassifier in Dataset2: 91.5%\n",
            "\n"
          ]
        }
      ]
    },
    {
      "cell_type": "markdown",
      "source": [
        "Fitting DecisionTreeClassifier for DATASET 2"
      ],
      "metadata": {
        "id": "dil53BLYUqSf"
      }
    },
    {
      "cell_type": "code",
      "source": [
        "dtc_predict_dt2= dt.predict(x_test_data)\n",
        "dtc_dt2_accuracy = metrics.accuracy_score(y_test_data,dtc_predict_dt2)"
      ],
      "metadata": {
        "id": "Ku_zZmcqUp4J"
      },
      "execution_count": 883,
      "outputs": []
    },
    {
      "cell_type": "code",
      "source": [
        "print(f\"Accuracy for DecisionTreeClassifier in Dataset1: {round(accuracy_score(y_test,predict_dt) * 100, 2)}%\\n\")\n",
        "print(f\"Accuracy for RandomForestClassifier in Dataset2: {round(dtc_dt2_accuracy * 100, 2)}%\\n\")"
      ],
      "metadata": {
        "colab": {
          "base_uri": "https://localhost:8080/"
        },
        "id": "vqtnjmwEZFKH",
        "outputId": "4227c41e-6c86-4f9a-e4a0-a2506cf8e1f2"
      },
      "execution_count": 884,
      "outputs": [
        {
          "output_type": "stream",
          "name": "stdout",
          "text": [
            "Accuracy for DecisionTreeClassifier in Dataset1: 90.14%\n",
            "\n",
            "Accuracy for RandomForestClassifier in Dataset2: 90.01%\n",
            "\n"
          ]
        }
      ]
    },
    {
      "cell_type": "markdown",
      "source": [
        "Fitting KNN for Dataset 2"
      ],
      "metadata": {
        "id": "Tzjmlh5zZZhO"
      }
    },
    {
      "cell_type": "code",
      "source": [
        "kn_predict_dt2 = kn.predict(x_test_data)\n",
        "kn_dt2_accuracy = metrics.accuracy_score(y_test_data,kn_predict_dt2)"
      ],
      "metadata": {
        "id": "KgFdzlJMZWHF"
      },
      "execution_count": 885,
      "outputs": []
    },
    {
      "cell_type": "code",
      "source": [
        "print(f\"Accuracy for KNeighborsClassifier in Dataset1: {round(accuracy_score(y_test,predict_kn) * 100, 2)}%\\n\")\n",
        "print(f\"Accuracy for KNeighborsClassifier in Dataset2: {round(kn_dt2_accuracy * 100, 2)}%\\n\")"
      ],
      "metadata": {
        "colab": {
          "base_uri": "https://localhost:8080/"
        },
        "id": "VVSjGc3CZ42s",
        "outputId": "aa15b49b-b73f-43d5-9c21-2c5686b48dfc"
      },
      "execution_count": 886,
      "outputs": [
        {
          "output_type": "stream",
          "name": "stdout",
          "text": [
            "Accuracy for KNeighborsClassifier in Dataset1: 89.7%\n",
            "\n",
            "Accuracy for KNeighborsClassifier in Dataset2: 89.35%\n",
            "\n"
          ]
        }
      ]
    },
    {
      "cell_type": "markdown",
      "source": [
        "Fitting Gaussian Naive Bayes"
      ],
      "metadata": {
        "id": "8j0MLEAWaTAW"
      }
    },
    {
      "cell_type": "code",
      "source": [
        "gnb_predict_dt2 = gnb.predict(x_test_data)\n",
        "gnb_dt2_accuracy = metrics.accuracy_score(y_test_data,gnb_predict_dt2)"
      ],
      "metadata": {
        "id": "HqVwpptiaRIE"
      },
      "execution_count": 887,
      "outputs": []
    },
    {
      "cell_type": "code",
      "source": [
        "print(f\"Accuracy for GaussianNaiveBayes in Dataset2: {round(accuracy_score(y_test,predict_gnb) * 100, 2)}%\\n\")\n",
        "print(f\"Accuracy for GaussianNaiveBayes in Dataset2: {round(gnb_dt2_accuracy * 100, 2)}%\\n\")"
      ],
      "metadata": {
        "colab": {
          "base_uri": "https://localhost:8080/"
        },
        "id": "cH8AgTB5axV-",
        "outputId": "e3b89af3-1be9-43fa-dddb-183375738c68"
      },
      "execution_count": 888,
      "outputs": [
        {
          "output_type": "stream",
          "name": "stdout",
          "text": [
            "Accuracy for GaussianNaiveBayes in Dataset2: 79.03%\n",
            "\n",
            "Accuracy for GaussianNaiveBayes in Dataset2: 78.38%\n",
            "\n"
          ]
        }
      ]
    },
    {
      "cell_type": "code",
      "source": [
        "%matplotlib inline\n",
        "plt.rcParams.update({'figure.figsize':(20,7), 'figure.dpi':100})"
      ],
      "metadata": {
        "id": "DP07vUeveABk"
      },
      "execution_count": 941,
      "outputs": []
    },
    {
      "cell_type": "code",
      "source": [
        "# Simple Bar Plot\n",
        "plt.bar('LR',accuracy_score(y_test,predict_LR) * 100,LR_dt2_accuracy)\n",
        "plt.bar('RFC',accuracy_score(y_test,predict_rf) * 100,rf_dt2_accuracy)\n",
        "plt.bar('DT',accuracy_score(y_test,predict_dt) * 100,dtc_dt2_accuracy)\n",
        "plt.bar('KNN',accuracy_score(y_test,predict_kn) * 100,kn_dt2_accuracy)\n",
        "plt.bar('GNB',accuracy_score(y_test,predict_gnb) * 100,gnb_dt2_accuracy)\n",
        "\n",
        "plt.yticks(rotation='vertical')\n",
        "\n",
        "plt.xlabel('Dataset1')\n",
        "plt.ylabel(\"Dataset2\")\n",
        "plt.title('Accuracy Barplot')\n",
        "# Creating the legend of the bars in the plot\n",
        "plt.legend(labels = ['Accuracy in %'])\n",
        "plt.show()"
      ],
      "metadata": {
        "colab": {
          "base_uri": "https://localhost:8080/",
          "height": 555
        },
        "id": "g7J78zVaeJGb",
        "outputId": "0acb7db4-940c-4edc-fe32-db5b17d8152f"
      },
      "execution_count": 949,
      "outputs": [
        {
          "output_type": "display_data",
          "data": {
            "text/plain": [
              "<Figure size 2000x700 with 1 Axes>"
            ],
            "image/png": "[encoded data removed]"
          },
          "metadata": {
            "needs_background": "light"
          }
        }
      ]
    },
    {
      "cell_type": "code",
      "source": [
        "# Simple Bar Plot\n",
        "plt.barh('LR',accuracy_score(y_test,predict_LR) * 100,LR_dt2_accuracy,color='yellow')\n",
        "plt.barh('RFC',accuracy_score(y_test,predict_rf) * 100,rf_dt2_accuracy,color='red')\n",
        "plt.barh('DT',accuracy_score(y_test,predict_dt) * 100,dtc_dt2_accuracy,color='black')\n",
        "plt.barh('KNN',accuracy_score(y_test,predict_kn) * 100,kn_dt2_accuracy,color='green')\n",
        "plt.barh('GNB',accuracy_score(y_test,predict_gnb) * 100,gnb_dt2_accuracy,color='cyan')\n",
        "\n",
        "plt.xticks(rotation='vertical')\n",
        "\n",
        "\n",
        "plt.xlabel('Dataset1')\n",
        "plt.ylabel(\"Dataset2\")\n",
        "plt.title('Accuracy Barplot')\n",
        "# Creating the legend of the bars in the plot\n",
        "plt.legend(labels = ['Accuracy in %'])\n",
        "plt.show()"
      ],
      "metadata": {
        "colab": {
          "base_uri": "https://localhost:8080/",
          "height": 552
        },
        "id": "SMFIpFnxftu6",
        "outputId": "86ec45dc-863d-4113-98de-c787a16c4510"
      },
      "execution_count": 983,
      "outputs": [
        {
          "output_type": "display_data",
          "data": {
            "text/plain": [
              "<Figure size 2000x700 with 1 Axes>"
            ],
            "image/png": "[encoded data removed]"
          },
          "metadata": {
            "needs_background": "light"
          }
        }
      ]
    }
  ]
}